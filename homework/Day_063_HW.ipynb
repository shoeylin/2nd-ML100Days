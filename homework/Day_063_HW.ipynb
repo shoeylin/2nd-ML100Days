{
 "cells": [
  {
   "cell_type": "markdown",
   "metadata": {},
   "source": [
    "# 作業\n",
    "* 在精簡深度學習的方式上 : 卷積類神經 (CNN) 採用像素遠近，而遞歸類神經 (RNN) 採用著則是時間遠近\n",
    "* 那麼，既然有著類似的設計精神，兩者是否有可能互換應用呢?\n",
    "\n",
    "CNN 由一個輸入層（像是以數字代表像素來呈現影像）、一個或多個隱藏層和一個輸出層所組成。\n",
    "這些數學運算層有助於電腦一點一滴地定義影像的細節，以求最終能分辨出特定物體或動物或其它目標。不過在辨識時常會出錯，尤其是在訓練初期。\n",
    "\n",
    "RNN 是一個擁有稱為 LSTM 這種活性資料記憶體的神經網路，可以用於一系列資料以猜測接下來會發生的內容。\n",
    "某些層的輸出內容透過 RNN 送回到前一層當成輸入項，如此一來便建立起回饋迴路。\n",
    "\n",
    "兩者應用場合不同，兩者互換應用可能會造成訓練困難。"
   ]
  },
  {
   "cell_type": "code",
   "execution_count": null,
   "metadata": {
    "collapsed": true
   },
   "outputs": [],
   "source": []
  }
 ],
 "metadata": {
  "kernelspec": {
   "display_name": "Python 3",
   "language": "python",
   "name": "python3"
  },
  "language_info": {
   "codemirror_mode": {
    "name": "ipython",
    "version": 3
   },
   "file_extension": ".py",
   "mimetype": "text/x-python",
   "name": "python",
   "nbconvert_exporter": "python",
   "pygments_lexer": "ipython3",
   "version": "3.7.3"
  }
 },
 "nbformat": 4,
 "nbformat_minor": 2
}
