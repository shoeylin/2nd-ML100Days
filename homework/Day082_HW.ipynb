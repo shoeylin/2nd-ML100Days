{
 "cells": [
  {
   "cell_type": "markdown",
   "metadata": {},
   "source": [
    "## Work\n",
    "1. 請比較使用不同層數以及不同 Dropout rate 對訓練的效果\n",
    "2. 將 optimizer 改成使用 Adam 並加上適當的 dropout rate 檢視結果"
   ]
  },
  {
   "cell_type": "code",
   "execution_count": 1,
   "metadata": {},
   "outputs": [
    {
     "name": "stderr",
     "output_type": "stream",
     "text": [
      "Using TensorFlow backend.\n"
     ]
    }
   ],
   "source": [
    "import os\n",
    "import keras\n",
    "import itertools\n",
    "# Disable GPU\n",
    "os.environ[\"CUDA_VISIBLE_DEVICES\"] = \"\""
   ]
  },
  {
   "cell_type": "code",
   "execution_count": 2,
   "metadata": {},
   "outputs": [],
   "source": [
    "train, test = keras.datasets.cifar10.load_data()"
   ]
  },
  {
   "cell_type": "code",
   "execution_count": 3,
   "metadata": {},
   "outputs": [],
   "source": [
    "## 資料前處理\n",
    "def preproc_x(x, flatten=True):\n",
    "    x = x / 255.\n",
    "    if flatten:\n",
    "        x = x.reshape((len(x), -1))\n",
    "    return x\n",
    "\n",
    "def preproc_y(y, num_classes=10):\n",
    "    if y.shape[-1] == 1:\n",
    "        y = keras.utils.to_categorical(y, num_classes)\n",
    "    return y    "
   ]
  },
  {
   "cell_type": "code",
   "execution_count": 4,
   "metadata": {},
   "outputs": [],
   "source": [
    "x_train, y_train = train\n",
    "x_test, y_test = test\n",
    "\n",
    "# Preproc the inputs\n",
    "x_train = preproc_x(x_train)\n",
    "x_test = preproc_x(x_test)\n",
    "\n",
    "# Preprc the outputs\n",
    "y_train = preproc_y(y_train)\n",
    "y_test = preproc_y(y_test)"
   ]
  },
  {
   "cell_type": "code",
   "execution_count": 5,
   "metadata": {},
   "outputs": [],
   "source": [
    "from keras.layers import Dropout\n",
    "\n",
    "def build_mlp(input_shape, output_units=10, num_neurons=[512, 256, 128, 64], drp_ratio=0.5):\n",
    "    \"\"\"Code Here\n",
    "    建立你的神經網路\n",
    "    \"\"\"\n",
    "    input_layer = keras.layers.Input(input_shape)\n",
    "    \n",
    "    for i, n_units in enumerate(num_neurons):\n",
    "        if i == 0:\n",
    "            x = keras.layers.Dense(units=n_units, \n",
    "                                   activation=\"relu\", \n",
    "                                   name=\"hidden_layer\"+str(i+1))(input_layer)\n",
    "            x = Dropout(drp_ratio)(x)\n",
    "        else:\n",
    "            x = keras.layers.Dense(units=n_units, \n",
    "                                   activation=\"relu\", \n",
    "                                   name=\"hidden_layer\"+str(i+1))(x)\n",
    "            x = Dropout(drp_ratio)(x)\n",
    "    \n",
    "    out = keras.layers.Dense(units=output_units, activation=\"softmax\", name=\"output\")(x)\n",
    "    \n",
    "    model = keras.models.Model(inputs=[input_layer], outputs=[out])\n",
    "    return model"
   ]
  },
  {
   "cell_type": "code",
   "execution_count": 6,
   "metadata": {},
   "outputs": [],
   "source": [
    "\"\"\"Code Here\n",
    "設定超參數\n",
    "\"\"\"\n",
    "LEARNING_RATE = 1e-3\n",
    "EPOCHS = 50\n",
    "BATCH_SIZE = 256\n",
    "MOMENTUM = 0.95\n",
    "Dropout_EXP = 0.25"
   ]
  },
  {
   "cell_type": "code",
   "execution_count": 7,
   "metadata": {
    "scrolled": true
   },
   "outputs": [
    {
     "name": "stderr",
     "output_type": "stream",
     "text": [
      "WARNING: Logging before flag parsing goes to stderr.\n",
      "W0718 20:57:39.627907  4728 deprecation_wrapper.py:119] From C:\\Users\\shoey\\Anaconda3\\envs\\tensorflow\\lib\\site-packages\\keras\\backend\\tensorflow_backend.py:74: The name tf.get_default_graph is deprecated. Please use tf.compat.v1.get_default_graph instead.\n",
      "\n",
      "W0718 20:57:39.695911  4728 deprecation_wrapper.py:119] From C:\\Users\\shoey\\Anaconda3\\envs\\tensorflow\\lib\\site-packages\\keras\\backend\\tensorflow_backend.py:517: The name tf.placeholder is deprecated. Please use tf.compat.v1.placeholder instead.\n",
      "\n",
      "W0718 20:57:39.721913  4728 deprecation_wrapper.py:119] From C:\\Users\\shoey\\Anaconda3\\envs\\tensorflow\\lib\\site-packages\\keras\\backend\\tensorflow_backend.py:4138: The name tf.random_uniform is deprecated. Please use tf.random.uniform instead.\n",
      "\n",
      "W0718 20:57:39.757915  4728 deprecation_wrapper.py:119] From C:\\Users\\shoey\\Anaconda3\\envs\\tensorflow\\lib\\site-packages\\keras\\backend\\tensorflow_backend.py:133: The name tf.placeholder_with_default is deprecated. Please use tf.compat.v1.placeholder_with_default instead.\n",
      "\n",
      "W0718 20:57:39.771916  4728 deprecation.py:506] From C:\\Users\\shoey\\Anaconda3\\envs\\tensorflow\\lib\\site-packages\\keras\\backend\\tensorflow_backend.py:3445: calling dropout (from tensorflow.python.ops.nn_ops) with keep_prob is deprecated and will be removed in a future version.\n",
      "Instructions for updating:\n",
      "Please use `rate` instead of `keep_prob`. Rate should be set to `rate = 1 - keep_prob`.\n",
      "W0718 20:57:39.899923  4728 deprecation_wrapper.py:119] From C:\\Users\\shoey\\Anaconda3\\envs\\tensorflow\\lib\\site-packages\\keras\\optimizers.py:790: The name tf.train.Optimizer is deprecated. Please use tf.compat.v1.train.Optimizer instead.\n",
      "\n",
      "W0718 20:57:39.906923  4728 deprecation_wrapper.py:119] From C:\\Users\\shoey\\Anaconda3\\envs\\tensorflow\\lib\\site-packages\\keras\\backend\\tensorflow_backend.py:3295: The name tf.log is deprecated. Please use tf.math.log instead.\n",
      "\n",
      "W0718 20:57:40.008929  4728 deprecation.py:323] From C:\\Users\\shoey\\Anaconda3\\envs\\tensorflow\\lib\\site-packages\\tensorflow\\python\\ops\\math_grad.py:1250: add_dispatch_support.<locals>.wrapper (from tensorflow.python.ops.array_ops) is deprecated and will be removed in a future version.\n",
      "Instructions for updating:\n",
      "Use tf.where in 2.0, which has the same broadcast rule as np.where\n"
     ]
    },
    {
     "name": "stdout",
     "output_type": "stream",
     "text": [
      "_________________________________________________________________\n",
      "Layer (type)                 Output Shape              Param #   \n",
      "=================================================================\n",
      "input_1 (InputLayer)         (None, 3072)              0         \n",
      "_________________________________________________________________\n",
      "hidden_layer1 (Dense)        (None, 512)               1573376   \n",
      "_________________________________________________________________\n",
      "dropout_1 (Dropout)          (None, 512)               0         \n",
      "_________________________________________________________________\n",
      "hidden_layer2 (Dense)        (None, 256)               131328    \n",
      "_________________________________________________________________\n",
      "dropout_2 (Dropout)          (None, 256)               0         \n",
      "_________________________________________________________________\n",
      "hidden_layer3 (Dense)        (None, 128)               32896     \n",
      "_________________________________________________________________\n",
      "dropout_3 (Dropout)          (None, 128)               0         \n",
      "_________________________________________________________________\n",
      "hidden_layer4 (Dense)        (None, 64)                8256      \n",
      "_________________________________________________________________\n",
      "dropout_4 (Dropout)          (None, 64)                0         \n",
      "_________________________________________________________________\n",
      "output (Dense)               (None, 10)                650       \n",
      "=================================================================\n",
      "Total params: 1,746,506\n",
      "Trainable params: 1,746,506\n",
      "Non-trainable params: 0\n",
      "_________________________________________________________________\n",
      "Train on 50000 samples, validate on 10000 samples\n",
      "Epoch 1/50\n",
      "50000/50000 [==============================] - 9s 174us/step - loss: 2.1568 - acc: 0.1821 - val_loss: 1.9637 - val_acc: 0.2833\n",
      "Epoch 2/50\n",
      "50000/50000 [==============================] - 8s 164us/step - loss: 1.9597 - acc: 0.2753 - val_loss: 1.8475 - val_acc: 0.3362\n",
      "Epoch 3/50\n",
      "50000/50000 [==============================] - 8s 160us/step - loss: 1.8963 - acc: 0.3022 - val_loss: 1.8059 - val_acc: 0.3475\n",
      "Epoch 4/50\n",
      "50000/50000 [==============================] - 9s 176us/step - loss: 1.8602 - acc: 0.3173 - val_loss: 1.7918 - val_acc: 0.3554\n",
      "Epoch 5/50\n",
      "50000/50000 [==============================] - 8s 157us/step - loss: 1.8380 - acc: 0.3261 - val_loss: 1.7501 - val_acc: 0.3628\n",
      "Epoch 6/50\n",
      "50000/50000 [==============================] - 8s 157us/step - loss: 1.8087 - acc: 0.3399 - val_loss: 1.7166 - val_acc: 0.3852\n",
      "Epoch 7/50\n",
      "50000/50000 [==============================] - 8s 155us/step - loss: 1.7843 - acc: 0.3503 - val_loss: 1.6939 - val_acc: 0.4000\n",
      "Epoch 8/50\n",
      "50000/50000 [==============================] - 8s 156us/step - loss: 1.7680 - acc: 0.3583 - val_loss: 1.6863 - val_acc: 0.4103\n",
      "Epoch 9/50\n",
      "50000/50000 [==============================] - 8s 155us/step - loss: 1.7548 - acc: 0.3607 - val_loss: 1.6729 - val_acc: 0.4011\n",
      "Epoch 10/50\n",
      "50000/50000 [==============================] - 8s 155us/step - loss: 1.7417 - acc: 0.3653 - val_loss: 1.6802 - val_acc: 0.4031\n",
      "Epoch 11/50\n",
      "50000/50000 [==============================] - 8s 155us/step - loss: 1.7389 - acc: 0.3696 - val_loss: 1.6637 - val_acc: 0.4140\n",
      "Epoch 12/50\n",
      "50000/50000 [==============================] - 8s 155us/step - loss: 1.7216 - acc: 0.3761 - val_loss: 1.6509 - val_acc: 0.4195\n",
      "Epoch 13/50\n",
      "50000/50000 [==============================] - 8s 163us/step - loss: 1.7100 - acc: 0.3823 - val_loss: 1.6456 - val_acc: 0.4201\n",
      "Epoch 14/50\n",
      "50000/50000 [==============================] - 8s 158us/step - loss: 1.7019 - acc: 0.3853 - val_loss: 1.6332 - val_acc: 0.4268\n",
      "Epoch 15/50\n",
      "50000/50000 [==============================] - 9s 190us/step - loss: 1.6958 - acc: 0.3852 - val_loss: 1.6285 - val_acc: 0.4194\n",
      "Epoch 16/50\n",
      "50000/50000 [==============================] - 8s 160us/step - loss: 1.6895 - acc: 0.3899 - val_loss: 1.6167 - val_acc: 0.4317\n",
      "Epoch 17/50\n",
      "50000/50000 [==============================] - 8s 157us/step - loss: 1.6860 - acc: 0.3903 - val_loss: 1.6268 - val_acc: 0.4232\n",
      "Epoch 18/50\n",
      "50000/50000 [==============================] - 9s 178us/step - loss: 1.6721 - acc: 0.3975 - val_loss: 1.6308 - val_acc: 0.4266\n",
      "Epoch 19/50\n",
      "50000/50000 [==============================] - 9s 187us/step - loss: 1.6679 - acc: 0.3970 - val_loss: 1.5926 - val_acc: 0.4369\n",
      "Epoch 20/50\n",
      "50000/50000 [==============================] - 9s 174us/step - loss: 1.6728 - acc: 0.3972 - val_loss: 1.6019 - val_acc: 0.4286\n",
      "Epoch 21/50\n",
      "50000/50000 [==============================] - 8s 168us/step - loss: 1.6606 - acc: 0.3999 - val_loss: 1.5764 - val_acc: 0.4446\n",
      "Epoch 22/50\n",
      "50000/50000 [==============================] - 9s 174us/step - loss: 1.6553 - acc: 0.4008 - val_loss: 1.5836 - val_acc: 0.4454\n",
      "Epoch 23/50\n",
      "50000/50000 [==============================] - 9s 172us/step - loss: 1.6473 - acc: 0.4063 - val_loss: 1.5793 - val_acc: 0.4402\n",
      "Epoch 24/50\n",
      "50000/50000 [==============================] - 9s 176us/step - loss: 1.6442 - acc: 0.4081 - val_loss: 1.5871 - val_acc: 0.4406\n",
      "Epoch 25/50\n",
      "50000/50000 [==============================] - 8s 156us/step - loss: 1.6376 - acc: 0.4096 - val_loss: 1.5719 - val_acc: 0.4456\n",
      "Epoch 26/50\n",
      "50000/50000 [==============================] - 8s 165us/step - loss: 1.6332 - acc: 0.4144 - val_loss: 1.5737 - val_acc: 0.4365\n",
      "Epoch 27/50\n",
      "50000/50000 [==============================] - 11s 219us/step - loss: 1.6366 - acc: 0.4126 - val_loss: 1.5646 - val_acc: 0.4466\n",
      "Epoch 28/50\n",
      "50000/50000 [==============================] - 9s 183us/step - loss: 1.6273 - acc: 0.4159 - val_loss: 1.5537 - val_acc: 0.4456\n",
      "Epoch 29/50\n",
      "50000/50000 [==============================] - 9s 174us/step - loss: 1.6198 - acc: 0.4192 - val_loss: 1.5593 - val_acc: 0.4486\n",
      "Epoch 30/50\n",
      "50000/50000 [==============================] - 8s 163us/step - loss: 1.6177 - acc: 0.4161 - val_loss: 1.5734 - val_acc: 0.4442\n",
      "Epoch 31/50\n",
      "50000/50000 [==============================] - 8s 164us/step - loss: 1.6256 - acc: 0.4148 - val_loss: 1.5665 - val_acc: 0.4412\n",
      "Epoch 32/50\n",
      "50000/50000 [==============================] - 8s 164us/step - loss: 1.6145 - acc: 0.4201 - val_loss: 1.5410 - val_acc: 0.4504\n",
      "Epoch 33/50\n",
      "50000/50000 [==============================] - 9s 173us/step - loss: 1.6093 - acc: 0.4199 - val_loss: 1.5736 - val_acc: 0.4487\n",
      "Epoch 34/50\n",
      "50000/50000 [==============================] - 10s 200us/step - loss: 1.6129 - acc: 0.4214 - val_loss: 1.5547 - val_acc: 0.4471\n",
      "Epoch 35/50\n",
      "50000/50000 [==============================] - 9s 176us/step - loss: 1.6083 - acc: 0.4236 - val_loss: 1.5576 - val_acc: 0.4495\n",
      "Epoch 36/50\n",
      "50000/50000 [==============================] - 8s 160us/step - loss: 1.5971 - acc: 0.4278 - val_loss: 1.5471 - val_acc: 0.4556\n",
      "Epoch 37/50\n",
      "50000/50000 [==============================] - 8s 162us/step - loss: 1.5911 - acc: 0.4302 - val_loss: 1.5622 - val_acc: 0.4513\n",
      "Epoch 38/50\n",
      "50000/50000 [==============================] - 8s 158us/step - loss: 1.5919 - acc: 0.4292 - val_loss: 1.5365 - val_acc: 0.4560\n",
      "Epoch 39/50\n",
      "50000/50000 [==============================] - 8s 160us/step - loss: 1.5828 - acc: 0.4316 - val_loss: 1.5341 - val_acc: 0.4613\n",
      "Epoch 40/50\n",
      "50000/50000 [==============================] - 8s 160us/step - loss: 1.5897 - acc: 0.4286 - val_loss: 1.5350 - val_acc: 0.4638\n",
      "Epoch 41/50\n",
      "50000/50000 [==============================] - 8s 160us/step - loss: 1.5830 - acc: 0.4336 - val_loss: 1.5676 - val_acc: 0.4435\n",
      "Epoch 42/50\n",
      "50000/50000 [==============================] - 8s 161us/step - loss: 1.5801 - acc: 0.4339 - val_loss: 1.5045 - val_acc: 0.4686\n",
      "Epoch 43/50\n",
      "50000/50000 [==============================] - 8s 160us/step - loss: 1.5787 - acc: 0.4354 - val_loss: 1.5213 - val_acc: 0.4655\n",
      "Epoch 44/50\n",
      "50000/50000 [==============================] - 8s 160us/step - loss: 1.5747 - acc: 0.4345 - val_loss: 1.4992 - val_acc: 0.4709\n",
      "Epoch 45/50\n",
      "50000/50000 [==============================] - 8s 160us/step - loss: 1.5762 - acc: 0.4358 - val_loss: 1.5325 - val_acc: 0.4568\n",
      "Epoch 46/50\n",
      "50000/50000 [==============================] - 8s 160us/step - loss: 1.5641 - acc: 0.4413 - val_loss: 1.5362 - val_acc: 0.4533\n",
      "Epoch 47/50\n",
      "50000/50000 [==============================] - 8s 160us/step - loss: 1.5666 - acc: 0.4400 - val_loss: 1.5034 - val_acc: 0.4694\n"
     ]
    },
    {
     "name": "stdout",
     "output_type": "stream",
     "text": [
      "Epoch 48/50\n",
      "50000/50000 [==============================] - 8s 155us/step - loss: 1.5651 - acc: 0.4381 - val_loss: 1.5151 - val_acc: 0.4579\n",
      "Epoch 49/50\n",
      "50000/50000 [==============================] - 8s 157us/step - loss: 1.5635 - acc: 0.4382 - val_loss: 1.5405 - val_acc: 0.4623\n",
      "Epoch 50/50\n",
      "50000/50000 [==============================] - 8s 155us/step - loss: 1.5634 - acc: 0.4394 - val_loss: 1.5254 - val_acc: 0.4611\n"
     ]
    }
   ],
   "source": [
    "results = {}\n",
    "\"\"\"Code Here\n",
    "撰寫你的訓練流程並將結果用 dictionary 紀錄\n",
    "\"\"\"\n",
    "model = build_mlp(input_shape=x_train.shape[1:], drp_ratio=Dropout_EXP)\n",
    "model.summary()\n",
    "optimizer = keras.optimizers.Adam(lr=LEARNING_RATE, beta_1=0.9, beta_2=0.999, epsilon=None, decay=0.0, amsgrad=False)\n",
    "model.compile(loss=\"categorical_crossentropy\", metrics=[\"accuracy\"], optimizer=optimizer)\n",
    "\n",
    "model.fit(x_train, y_train, \n",
    "          epochs=EPOCHS, \n",
    "          batch_size=BATCH_SIZE, \n",
    "          validation_data=(x_test, y_test), \n",
    "          shuffle=True)\n",
    "\n",
    "# Collect results\n",
    "train_loss = model.history.history[\"loss\"]\n",
    "valid_loss = model.history.history[\"val_loss\"]\n",
    "train_acc = model.history.history[\"acc\"]\n",
    "valid_acc = model.history.history[\"val_acc\"]"
   ]
  },
  {
   "cell_type": "code",
   "execution_count": 8,
   "metadata": {},
   "outputs": [
    {
     "data": {
      "image/png": "[encoded data removed]",
      "text/plain": [
       "<Figure size 432x288 with 1 Axes>"
      ]
     },
     "metadata": {
      "needs_background": "light"
     },
     "output_type": "display_data"
    },
    {
     "data": {
      "image/png": "[encoded data removed]",
      "text/plain": [
       "<Figure size 432x288 with 1 Axes>"
      ]
     },
     "metadata": {
      "needs_background": "light"
     },
     "output_type": "display_data"
    }
   ],
   "source": [
    "import matplotlib.pyplot as plt\n",
    "%matplotlib inline\n",
    "\"\"\"Code Here\n",
    "將結果繪出\n",
    "\"\"\"\n",
    "plt.plot(range(len(train_loss)), train_loss, label=\"train loss\")\n",
    "plt.plot(range(len(valid_loss)), valid_loss, label=\"valid loss\")\n",
    "plt.legend()\n",
    "plt.title(\"Loss\")\n",
    "plt.show()\n",
    "\n",
    "plt.plot(range(len(train_acc)), train_acc, label=\"train accuracy\")\n",
    "plt.plot(range(len(valid_acc)), valid_acc, label=\"valid accuracy\")\n",
    "plt.legend()\n",
    "plt.title(\"Accuracy\")\n",
    "plt.show()"
   ]
  },
  {
   "cell_type": "code",
   "execution_count": 9,
   "metadata": {},
   "outputs": [],
   "source": [
    "def build_mlp(input_shape, output_units=10, num_neurons=[512, 256, 128], drp_ratio=0.9):\n",
    "    \"\"\"Code Here\n",
    "    建立你的神經網路\n",
    "    \"\"\"\n",
    "    input_layer = keras.layers.Input(input_shape)\n",
    "    \n",
    "    for i, n_units in enumerate(num_neurons):\n",
    "        if i == 0:\n",
    "            x = keras.layers.Dense(units=n_units, \n",
    "                                   activation=\"relu\", \n",
    "                                   name=\"hidden_layer\"+str(i+1))(input_layer)\n",
    "            x = Dropout(drp_ratio)(x)\n",
    "        else:\n",
    "            x = keras.layers.Dense(units=n_units, \n",
    "                                   activation=\"relu\", \n",
    "                                   name=\"hidden_layer\"+str(i+1))(x)\n",
    "            x = Dropout(drp_ratio)(x)\n",
    "    \n",
    "    out = keras.layers.Dense(units=output_units, activation=\"softmax\", name=\"output\")(x)\n",
    "    \n",
    "    model = keras.models.Model(inputs=[input_layer], outputs=[out])\n",
    "    return model"
   ]
  },
  {
   "cell_type": "code",
   "execution_count": 11,
   "metadata": {},
   "outputs": [
    {
     "name": "stdout",
     "output_type": "stream",
     "text": [
      "_________________________________________________________________\n",
      "Layer (type)                 Output Shape              Param #   \n",
      "=================================================================\n",
      "input_3 (InputLayer)         (None, 3072)              0         \n",
      "_________________________________________________________________\n",
      "hidden_layer1 (Dense)        (None, 512)               1573376   \n",
      "_________________________________________________________________\n",
      "dropout_8 (Dropout)          (None, 512)               0         \n",
      "_________________________________________________________________\n",
      "hidden_layer2 (Dense)        (None, 256)               131328    \n",
      "_________________________________________________________________\n",
      "dropout_9 (Dropout)          (None, 256)               0         \n",
      "_________________________________________________________________\n",
      "hidden_layer3 (Dense)        (None, 128)               32896     \n",
      "_________________________________________________________________\n",
      "dropout_10 (Dropout)         (None, 128)               0         \n",
      "_________________________________________________________________\n",
      "output (Dense)               (None, 10)                1290      \n",
      "=================================================================\n",
      "Total params: 1,738,890\n",
      "Trainable params: 1,738,890\n",
      "Non-trainable params: 0\n",
      "_________________________________________________________________\n",
      "Train on 50000 samples, validate on 10000 samples\n",
      "Epoch 1/50\n",
      "50000/50000 [==============================] - 6s 128us/step - loss: 2.1836 - acc: 0.1847 - val_loss: 1.9895 - val_acc: 0.2910\n",
      "Epoch 2/50\n",
      "50000/50000 [==============================] - 6s 117us/step - loss: 1.9937 - acc: 0.2688 - val_loss: 1.8750 - val_acc: 0.3411\n",
      "Epoch 3/50\n",
      "50000/50000 [==============================] - 6s 120us/step - loss: 1.9131 - acc: 0.3084 - val_loss: 1.8098 - val_acc: 0.3662\n",
      "Epoch 4/50\n",
      "50000/50000 [==============================] - 6s 118us/step - loss: 1.8612 - acc: 0.3280 - val_loss: 1.7539 - val_acc: 0.3828\n",
      "Epoch 5/50\n",
      "50000/50000 [==============================] - 6s 119us/step - loss: 1.8145 - acc: 0.3476 - val_loss: 1.7122 - val_acc: 0.3989\n",
      "Epoch 6/50\n",
      "50000/50000 [==============================] - 6s 118us/step - loss: 1.7780 - acc: 0.3615 - val_loss: 1.6858 - val_acc: 0.4094\n",
      "Epoch 7/50\n",
      "50000/50000 [==============================] - 7s 131us/step - loss: 1.7542 - acc: 0.3699 - val_loss: 1.6554 - val_acc: 0.4137\n",
      "Epoch 8/50\n",
      "50000/50000 [==============================] - 7s 131us/step - loss: 1.7261 - acc: 0.3823 - val_loss: 1.6242 - val_acc: 0.4254\n",
      "Epoch 9/50\n",
      "50000/50000 [==============================] - 7s 133us/step - loss: 1.7022 - acc: 0.3922 - val_loss: 1.6076 - val_acc: 0.4350\n",
      "Epoch 10/50\n",
      "50000/50000 [==============================] - 8s 158us/step - loss: 1.6767 - acc: 0.4007 - val_loss: 1.5847 - val_acc: 0.4375\n",
      "Epoch 11/50\n",
      "50000/50000 [==============================] - 8s 158us/step - loss: 1.6617 - acc: 0.4053 - val_loss: 1.5653 - val_acc: 0.4480\n",
      "Epoch 12/50\n",
      "50000/50000 [==============================] - 8s 152us/step - loss: 1.6462 - acc: 0.4163 - val_loss: 1.5567 - val_acc: 0.4465\n",
      "Epoch 13/50\n",
      "50000/50000 [==============================] - 8s 158us/step - loss: 1.6261 - acc: 0.4177 - val_loss: 1.5391 - val_acc: 0.4525\n",
      "Epoch 14/50\n",
      "50000/50000 [==============================] - 8s 151us/step - loss: 1.6096 - acc: 0.4239 - val_loss: 1.5188 - val_acc: 0.4624\n",
      "Epoch 15/50\n",
      "50000/50000 [==============================] - 8s 162us/step - loss: 1.5952 - acc: 0.4321 - val_loss: 1.5075 - val_acc: 0.4615\n",
      "Epoch 16/50\n",
      "50000/50000 [==============================] - 8s 162us/step - loss: 1.5782 - acc: 0.4364 - val_loss: 1.4936 - val_acc: 0.4709\n",
      "Epoch 17/50\n",
      "50000/50000 [==============================] - 8s 153us/step - loss: 1.5668 - acc: 0.4424 - val_loss: 1.4880 - val_acc: 0.4694\n",
      "Epoch 18/50\n",
      "50000/50000 [==============================] - 8s 151us/step - loss: 1.5576 - acc: 0.4461 - val_loss: 1.4740 - val_acc: 0.4762\n",
      "Epoch 19/50\n",
      "50000/50000 [==============================] - 8s 158us/step - loss: 1.5459 - acc: 0.4487 - val_loss: 1.4704 - val_acc: 0.4766\n",
      "Epoch 20/50\n",
      "50000/50000 [==============================] - 9s 173us/step - loss: 1.5326 - acc: 0.4538 - val_loss: 1.4531 - val_acc: 0.4852\n",
      "Epoch 21/50\n",
      "50000/50000 [==============================] - 8s 166us/step - loss: 1.5197 - acc: 0.4609 - val_loss: 1.4521 - val_acc: 0.4831\n",
      "Epoch 22/50\n",
      "50000/50000 [==============================] - 6s 127us/step - loss: 1.5140 - acc: 0.4596 - val_loss: 1.4415 - val_acc: 0.4874\n",
      "Epoch 23/50\n",
      "50000/50000 [==============================] - 9s 172us/step - loss: 1.4996 - acc: 0.4642 - val_loss: 1.4339 - val_acc: 0.4886\n",
      "Epoch 24/50\n",
      "50000/50000 [==============================] - 9s 183us/step - loss: 1.4905 - acc: 0.4685 - val_loss: 1.4209 - val_acc: 0.4945\n",
      "Epoch 25/50\n",
      "50000/50000 [==============================] - 8s 159us/step - loss: 1.4833 - acc: 0.4732 - val_loss: 1.4239 - val_acc: 0.4875\n",
      "Epoch 26/50\n",
      "50000/50000 [==============================] - 8s 156us/step - loss: 1.4710 - acc: 0.4750 - val_loss: 1.4153 - val_acc: 0.5007\n",
      "Epoch 27/50\n",
      "50000/50000 [==============================] - 8s 158us/step - loss: 1.4606 - acc: 0.4803 - val_loss: 1.4057 - val_acc: 0.5051\n",
      "Epoch 28/50\n",
      "50000/50000 [==============================] - 8s 158us/step - loss: 1.4549 - acc: 0.4818 - val_loss: 1.4105 - val_acc: 0.4991\n",
      "Epoch 29/50\n",
      "50000/50000 [==============================] - 8s 160us/step - loss: 1.4469 - acc: 0.4840 - val_loss: 1.3953 - val_acc: 0.5075\n",
      "Epoch 30/50\n",
      "50000/50000 [==============================] - 8s 157us/step - loss: 1.4325 - acc: 0.4903 - val_loss: 1.3885 - val_acc: 0.5103\n",
      "Epoch 31/50\n",
      "50000/50000 [==============================] - 8s 159us/step - loss: 1.4229 - acc: 0.4924 - val_loss: 1.3798 - val_acc: 0.5096\n",
      "Epoch 32/50\n",
      "50000/50000 [==============================] - 8s 155us/step - loss: 1.4202 - acc: 0.4941 - val_loss: 1.3786 - val_acc: 0.5109\n",
      "Epoch 33/50\n",
      "50000/50000 [==============================] - 8s 158us/step - loss: 1.4077 - acc: 0.4995 - val_loss: 1.3704 - val_acc: 0.5106\n",
      "Epoch 34/50\n",
      "50000/50000 [==============================] - 8s 156us/step - loss: 1.3978 - acc: 0.5007 - val_loss: 1.3659 - val_acc: 0.5122\n",
      "Epoch 35/50\n",
      "50000/50000 [==============================] - 8s 159us/step - loss: 1.3893 - acc: 0.5067 - val_loss: 1.3673 - val_acc: 0.5079\n",
      "Epoch 36/50\n",
      "50000/50000 [==============================] - 8s 159us/step - loss: 1.3850 - acc: 0.5060 - val_loss: 1.3581 - val_acc: 0.5147\n",
      "Epoch 37/50\n",
      "50000/50000 [==============================] - 8s 161us/step - loss: 1.3805 - acc: 0.5079 - val_loss: 1.3548 - val_acc: 0.5192\n",
      "Epoch 38/50\n",
      "50000/50000 [==============================] - 8s 158us/step - loss: 1.3720 - acc: 0.5102 - val_loss: 1.3433 - val_acc: 0.5236\n",
      "Epoch 39/50\n",
      "50000/50000 [==============================] - 8s 161us/step - loss: 1.3628 - acc: 0.5131 - val_loss: 1.3432 - val_acc: 0.5210\n",
      "Epoch 40/50\n",
      "50000/50000 [==============================] - 8s 168us/step - loss: 1.3538 - acc: 0.5158 - val_loss: 1.3462 - val_acc: 0.5214\n",
      "Epoch 41/50\n",
      "50000/50000 [==============================] - 8s 161us/step - loss: 1.3504 - acc: 0.5174 - val_loss: 1.3427 - val_acc: 0.5173\n",
      "Epoch 42/50\n",
      "50000/50000 [==============================] - 8s 161us/step - loss: 1.3390 - acc: 0.5194 - val_loss: 1.3279 - val_acc: 0.5236\n",
      "Epoch 43/50\n",
      "50000/50000 [==============================] - 8s 165us/step - loss: 1.3335 - acc: 0.5231 - val_loss: 1.3279 - val_acc: 0.5250\n",
      "Epoch 44/50\n",
      "50000/50000 [==============================] - 8s 156us/step - loss: 1.3333 - acc: 0.5232 - val_loss: 1.3306 - val_acc: 0.5272\n",
      "Epoch 45/50\n",
      "50000/50000 [==============================] - 8s 160us/step - loss: 1.3144 - acc: 0.5307 - val_loss: 1.3322 - val_acc: 0.5238\n",
      "Epoch 46/50\n",
      "50000/50000 [==============================] - 8s 155us/step - loss: 1.3193 - acc: 0.5283 - val_loss: 1.3203 - val_acc: 0.5292\n",
      "Epoch 47/50\n",
      "50000/50000 [==============================] - 8s 160us/step - loss: 1.3139 - acc: 0.5321 - val_loss: 1.3248 - val_acc: 0.5265\n",
      "Epoch 48/50\n",
      "50000/50000 [==============================] - 8s 154us/step - loss: 1.3047 - acc: 0.5327 - val_loss: 1.3200 - val_acc: 0.5303\n",
      "Epoch 49/50\n"
     ]
    },
    {
     "name": "stdout",
     "output_type": "stream",
     "text": [
      "50000/50000 [==============================] - 8s 153us/step - loss: 1.2969 - acc: 0.5377 - val_loss: 1.3202 - val_acc: 0.5302\n",
      "Epoch 50/50\n",
      "50000/50000 [==============================] - 7s 149us/step - loss: 1.2894 - acc: 0.5379 - val_loss: 1.3146 - val_acc: 0.5283\n"
     ]
    }
   ],
   "source": [
    "results = {}\n",
    "\"\"\"Code Here\n",
    "撰寫你的訓練流程並將結果用 dictionary 紀錄\n",
    "\"\"\"\n",
    "model = build_mlp(input_shape=x_train.shape[1:], drp_ratio=Dropout_EXP)\n",
    "model.summary()\n",
    "optimizer = keras.optimizers.SGD(lr=LEARNING_RATE, nesterov=True, momentum=MOMENTUM)\n",
    "model.compile(loss=\"categorical_crossentropy\", metrics=[\"accuracy\"], optimizer=optimizer)\n",
    "\n",
    "model.fit(x_train, y_train, \n",
    "          epochs=EPOCHS, \n",
    "          batch_size=BATCH_SIZE, \n",
    "          validation_data=(x_test, y_test), \n",
    "          shuffle=True)\n",
    "\n",
    "# Collect results\n",
    "train_loss = model.history.history[\"loss\"]\n",
    "valid_loss = model.history.history[\"val_loss\"]\n",
    "train_acc = model.history.history[\"acc\"]\n",
    "valid_acc = model.history.history[\"val_acc\"]"
   ]
  },
  {
   "cell_type": "code",
   "execution_count": 12,
   "metadata": {
    "scrolled": true
   },
   "outputs": [
    {
     "data": {
      "image/png": "[encoded data removed]",
      "text/plain": [
       "<Figure size 432x288 with 1 Axes>"
      ]
     },
     "metadata": {
      "needs_background": "light"
     },
     "output_type": "display_data"
    },
    {
     "data": {
      "image/png": "[encoded data removed]",
      "text/plain": [
       "<Figure size 432x288 with 1 Axes>"
      ]
     },
     "metadata": {
      "needs_background": "light"
     },
     "output_type": "display_data"
    }
   ],
   "source": [
    "plt.plot(range(len(train_loss)), train_loss, label=\"train loss\")\n",
    "plt.plot(range(len(valid_loss)), valid_loss, label=\"valid loss\")\n",
    "plt.legend()\n",
    "plt.title(\"Loss\")\n",
    "plt.show()\n",
    "\n",
    "plt.plot(range(len(train_acc)), train_acc, label=\"train accuracy\")\n",
    "plt.plot(range(len(valid_acc)), valid_acc, label=\"valid accuracy\")\n",
    "plt.legend()\n",
    "plt.title(\"Accuracy\")\n",
    "plt.show()"
   ]
  },
  {
   "cell_type": "code",
   "execution_count": null,
   "metadata": {},
   "outputs": [],
   "source": []
  }
 ],
 "metadata": {
  "kernelspec": {
   "display_name": "Python 3",
   "language": "python",
   "name": "python3"
  },
  "language_info": {
   "codemirror_mode": {
    "name": "ipython",
    "version": 3
   },
   "file_extension": ".py",
   "mimetype": "text/x-python",
   "name": "python",
   "nbconvert_exporter": "python",
   "pygments_lexer": "ipython3",
   "version": "3.7.3"
  }
 },
 "nbformat": 4,
 "nbformat_minor": 2
}
