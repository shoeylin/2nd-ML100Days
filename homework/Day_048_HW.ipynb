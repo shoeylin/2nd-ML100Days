{
 "cells": [
  {
   "cell_type": "code",
   "execution_count": 1,
   "metadata": {},
   "outputs": [],
   "source": [
    "import numpy as np\n",
    "import pandas as pd\n",
    "from sklearn.model_selection import train_test_split\n",
    "from sklearn.ensemble import RandomForestClassifier\n",
    "from sklearn import metrics"
   ]
  },
  {
   "cell_type": "code",
   "execution_count": 2,
   "metadata": {},
   "outputs": [
    {
     "name": "stdout",
     "output_type": "stream",
     "text": [
      "(750, 40) (750, 1)\n"
     ]
    }
   ],
   "source": [
    "# 讀取資料\n",
    "train_data = pd.read_csv('./data/train.csv', header = None)\n",
    "train_label = pd.read_csv('./data/trainLabels.csv', header = None)\n",
    "train_test = pd.read_csv('./data/test.csv', header = None)\n",
    "\n",
    "data = np.asarray(pd.DataFrame(train_data))\n",
    "label = np.asarray(pd.DataFrame(train_label))\n",
    "test = np.asarray(pd.DataFrame(train_test))\n",
    "\n",
    "# 切分訓練集/測試集\n",
    "x_train, x_test, y_train, y_test = train_test_split(data, label, test_size = 0.25, random_state=42)\n",
    "print(x_train.shape, y_train.shape)"
   ]
  },
  {
   "cell_type": "code",
   "execution_count": 3,
   "metadata": {},
   "outputs": [
    {
     "name": "stderr",
     "output_type": "stream",
     "text": [
      "C:\\Users\\shoey\\Anaconda3\\lib\\site-packages\\ipykernel_launcher.py:2: DataConversionWarning: A column-vector y was passed when a 1d array was expected. Please change the shape of y to (n_samples,), for example using ravel().\n",
      "  \n"
     ]
    },
    {
     "name": "stdout",
     "output_type": "stream",
     "text": [
      "1.0\n",
      "0.86\n"
     ]
    }
   ],
   "source": [
    "rf = RandomForestClassifier(n_estimators = 100)\n",
    "rf.fit(x_train, y_train)\n",
    "\n",
    "pred = rf.predict(x_train)\n",
    "print(metrics.accuracy_score(pred, y_train))\n",
    "\n",
    "pred_test = rf.predict(x_test)\n",
    "print(metrics.accuracy_score(pred_test, y_test))"
   ]
  },
  {
   "cell_type": "code",
   "execution_count": 4,
   "metadata": {},
   "outputs": [],
   "source": [
    "#csv\n",
    "result = rf.predict(test)\n",
    "id = np.array([i for i in range(1, len(result)+1)])\n",
    "pd.DataFrame({'Id': id, 'Solution':result}).to_csv('shoey.csv', index=False)"
   ]
  },
  {
   "cell_type": "code",
   "execution_count": null,
   "metadata": {},
   "outputs": [],
   "source": []
  }
 ],
 "metadata": {
  "kernelspec": {
   "display_name": "Python 3",
   "language": "python",
   "name": "python3"
  },
  "language_info": {
   "codemirror_mode": {
    "name": "ipython",
    "version": 3
   },
   "file_extension": ".py",
   "mimetype": "text/x-python",
   "name": "python",
   "nbconvert_exporter": "python",
   "pygments_lexer": "ipython3",
   "version": "3.7.3"
  }
 },
 "nbformat": 4,
 "nbformat_minor": 2
}
