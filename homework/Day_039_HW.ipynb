{
 "cells": [
  {
   "cell_type": "markdown",
   "metadata": {},
   "source": [
    "## [作業重點]\n",
    "清楚了解 L1, L2 的意義與差異為何，並了解 LASSO 與 Ridge 之間的差異與使用情境"
   ]
  },
  {
   "cell_type": "markdown",
   "metadata": {},
   "source": [
    "## 作業"
   ]
  },
  {
   "cell_type": "markdown",
   "metadata": {},
   "source": [
    "請閱讀相關文獻，並回答下列問題\n",
    "\n",
    "[脊回歸 (Ridge Regression)](https://blog.csdn.net/daunxx/article/details/51578787)\n",
    "[Linear, Ridge, Lasso Regression 本質區別](https://www.zhihu.com/question/38121173)\n",
    "\n",
    "1. LASSO 回歸可以被用來作為 Feature selection 的工具，請了解 LASSO 模型為什麼可用來作 Feature selection\n",
    "2. 當自變數 (X) 存在高度共線性時，Ridge Regression 可以處理這樣的問題嗎?\n"
   ]
  },
  {
   "cell_type": "markdown",
   "metadata": {},
   "source": [
    "1. \n",
    "特徵選擇（英語：feature selection）也被稱為變量選擇、屬性選擇 或變量子集選擇 。\n",
    "它是指：為了構建模型而選擇相關特徵（即屬性、指標）子集的過程。使用特徵選擇技術有三個原因：\n",
    "\n",
    "(1) 簡化模型，使之更易於被研究人員或用戶理解，\n",
    "(2) 縮短訓練時間，\n",
    "(3) 改善通用性、降低過擬合（即降低方差）\n",
    "\n",
    "在做LASSO回歸進行fit時,某些特徵weights會趨近於0,可以踢掉一些不重要參數,所以可以做特徵選擇\n",
    "\n",
    "2.\n",
    "Ridge Regression是一種修改最小平方法，允許有偏估計量，進而改善多元共線性的方法，\n",
    "在原先普通最小平方法【(X’X)b=X’Y】的標準方程式中，加入一個偏化常數（biasing constant）c，c≧0，\n",
    "所得脊標準化迴歸方程式為（rXX+cI）bR = rYX，\n",
    "所以可以處理這樣的問題\n",
    "\n"
   ]
  }
 ],
 "metadata": {
  "kernelspec": {
   "display_name": "Python 3",
   "language": "python",
   "name": "python3"
  },
  "language_info": {
   "codemirror_mode": {
    "name": "ipython",
    "version": 3
   },
   "file_extension": ".py",
   "mimetype": "text/x-python",
   "name": "python",
   "nbconvert_exporter": "python",
   "pygments_lexer": "ipython3",
   "version": "3.7.3"
  }
 },
 "nbformat": 4,
 "nbformat_minor": 2
}
