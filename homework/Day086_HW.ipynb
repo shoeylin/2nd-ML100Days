{
 "cells": [
  {
   "cell_type": "markdown",
   "metadata": {},
   "source": [
    "## Work\n",
    "1. 試比較 save_best_only 與否的差異\n",
    "2. 請僅存入將 save_weights_only 設定為 True, 並嘗試 reset ipynb 並將模型與權重重新建回並預測 x_test"
   ]
  },
  {
   "cell_type": "code",
   "execution_count": 1,
   "metadata": {},
   "outputs": [
    {
     "name": "stderr",
     "output_type": "stream",
     "text": [
      "Using TensorFlow backend.\n"
     ]
    }
   ],
   "source": [
    "import os\n",
    "import keras\n",
    "\n",
    "# Disable GPU\n",
    "os.environ[\"CUDA_VISIBLE_DEVICES\"] = \"\""
   ]
  },
  {
   "cell_type": "code",
   "execution_count": 2,
   "metadata": {},
   "outputs": [],
   "source": [
    "train, test = keras.datasets.cifar10.load_data()"
   ]
  },
  {
   "cell_type": "code",
   "execution_count": 3,
   "metadata": {},
   "outputs": [],
   "source": [
    "## 資料前處理\n",
    "def preproc_x(x, flatten=True):\n",
    "    x = x / 255.\n",
    "    if flatten:\n",
    "        x = x.reshape((len(x), -1))\n",
    "    return x\n",
    "\n",
    "def preproc_y(y, num_classes=10):\n",
    "    if y.shape[-1] == 1:\n",
    "        y = keras.utils.to_categorical(y, num_classes)\n",
    "    return y    "
   ]
  },
  {
   "cell_type": "code",
   "execution_count": 4,
   "metadata": {},
   "outputs": [],
   "source": [
    "x_train, y_train = train\n",
    "x_test, y_test = test\n",
    "\n",
    "# Preproc the inputs\n",
    "x_train = preproc_x(x_train)\n",
    "x_test = preproc_x(x_test)\n",
    "\n",
    "# Preprc the outputs\n",
    "y_train = preproc_y(y_train)\n",
    "y_test = preproc_y(y_test)"
   ]
  },
  {
   "cell_type": "code",
   "execution_count": 5,
   "metadata": {},
   "outputs": [],
   "source": [
    "from keras.layers import BatchNormalization\n",
    "\n",
    "def build_mlp(input_shape, output_units=10, num_neurons=[512, 256, 128]):\n",
    "    \"\"\"Code Here\n",
    "    建立你的神經網路\n",
    "    \"\"\"\n",
    "    input_layer = keras.layers.Input(input_shape)\n",
    "    \n",
    "    for i, n_units in enumerate(num_neurons):\n",
    "        if i == 0:\n",
    "            x = keras.layers.Dense(units=n_units,\n",
    "                                   activation=\"relu\",\n",
    "                                   name=\"hiddden_layer\"+str(i+1))(input_layer)\n",
    "            x = BatchNormalization()(x)\n",
    "        else:\n",
    "            x = keras.layers.Dense(units=n_units,\n",
    "                                   activation=\"relu\",\n",
    "                                   name=\"hidden_layer\"+str(i+1))(x)\n",
    "            x = BatchNormalization()(x)\n",
    "            \n",
    "    out = keras.layers.Dense(units=output_units, activation=\"softmax\", name=\"output\")(x)\n",
    "    \n",
    "    model = keras.models.Model(inputs=[input_layer], outputs=[out])\n",
    "    return model"
   ]
  },
  {
   "cell_type": "code",
   "execution_count": 6,
   "metadata": {},
   "outputs": [],
   "source": [
    "\"\"\"Code Here\n",
    "設定超參數\n",
    "\"\"\"\n",
    "LEARNING_RATE = 1e-3\n",
    "EPOCHS = 50\n",
    "BATCH_SIZE = 1024\n",
    "MOMENTUM = 0.95"
   ]
  },
  {
   "cell_type": "code",
   "execution_count": 7,
   "metadata": {},
   "outputs": [
    {
     "name": "stderr",
     "output_type": "stream",
     "text": [
      "WARNING: Logging before flag parsing goes to stderr.\n",
      "W0722 20:52:40.368337  1188 deprecation_wrapper.py:119] From C:\\Users\\shoey\\Anaconda3\\envs\\tensorflow\\lib\\site-packages\\keras\\backend\\tensorflow_backend.py:74: The name tf.get_default_graph is deprecated. Please use tf.compat.v1.get_default_graph instead.\n",
      "\n",
      "W0722 20:52:41.045376  1188 deprecation_wrapper.py:119] From C:\\Users\\shoey\\Anaconda3\\envs\\tensorflow\\lib\\site-packages\\keras\\backend\\tensorflow_backend.py:517: The name tf.placeholder is deprecated. Please use tf.compat.v1.placeholder instead.\n",
      "\n",
      "W0722 20:52:41.101379  1188 deprecation_wrapper.py:119] From C:\\Users\\shoey\\Anaconda3\\envs\\tensorflow\\lib\\site-packages\\keras\\backend\\tensorflow_backend.py:4138: The name tf.random_uniform is deprecated. Please use tf.random.uniform instead.\n",
      "\n",
      "W0722 20:52:41.275389  1188 deprecation_wrapper.py:119] From C:\\Users\\shoey\\Anaconda3\\envs\\tensorflow\\lib\\site-packages\\keras\\backend\\tensorflow_backend.py:133: The name tf.placeholder_with_default is deprecated. Please use tf.compat.v1.placeholder_with_default instead.\n",
      "\n",
      "W0722 20:52:41.493402  1188 deprecation_wrapper.py:119] From C:\\Users\\shoey\\Anaconda3\\envs\\tensorflow\\lib\\site-packages\\keras\\optimizers.py:790: The name tf.train.Optimizer is deprecated. Please use tf.compat.v1.train.Optimizer instead.\n",
      "\n",
      "W0722 20:52:41.501402  1188 deprecation_wrapper.py:119] From C:\\Users\\shoey\\Anaconda3\\envs\\tensorflow\\lib\\site-packages\\keras\\backend\\tensorflow_backend.py:3295: The name tf.log is deprecated. Please use tf.math.log instead.\n",
      "\n"
     ]
    },
    {
     "name": "stdout",
     "output_type": "stream",
     "text": [
      "_________________________________________________________________\n",
      "Layer (type)                 Output Shape              Param #   \n",
      "=================================================================\n",
      "input_1 (InputLayer)         (None, 3072)              0         \n",
      "_________________________________________________________________\n",
      "hiddden_layer1 (Dense)       (None, 512)               1573376   \n",
      "_________________________________________________________________\n",
      "batch_normalization_1 (Batch (None, 512)               2048      \n",
      "_________________________________________________________________\n",
      "hidden_layer2 (Dense)        (None, 256)               131328    \n",
      "_________________________________________________________________\n",
      "batch_normalization_2 (Batch (None, 256)               1024      \n",
      "_________________________________________________________________\n",
      "hidden_layer3 (Dense)        (None, 128)               32896     \n",
      "_________________________________________________________________\n",
      "batch_normalization_3 (Batch (None, 128)               512       \n",
      "_________________________________________________________________\n",
      "output (Dense)               (None, 10)                1290      \n",
      "=================================================================\n",
      "Total params: 1,742,474\n",
      "Trainable params: 1,740,682\n",
      "Non-trainable params: 1,792\n",
      "_________________________________________________________________\n"
     ]
    },
    {
     "name": "stderr",
     "output_type": "stream",
     "text": [
      "W0722 20:52:41.809420  1188 deprecation.py:323] From C:\\Users\\shoey\\Anaconda3\\envs\\tensorflow\\lib\\site-packages\\tensorflow\\python\\ops\\math_grad.py:1250: add_dispatch_support.<locals>.wrapper (from tensorflow.python.ops.array_ops) is deprecated and will be removed in a future version.\n",
      "Instructions for updating:\n",
      "Use tf.where in 2.0, which has the same broadcast rule as np.where\n"
     ]
    },
    {
     "name": "stdout",
     "output_type": "stream",
     "text": [
      "Train on 50000 samples, validate on 10000 samples\n",
      "Epoch 1/50\n",
      "50000/50000 [==============================] - 9s 184us/step - loss: 2.1874 - acc: 0.2727 - val_loss: 2.1345 - val_acc: 0.3277\n",
      "Epoch 2/50\n",
      "50000/50000 [==============================] - 4s 85us/step - loss: 1.7348 - acc: 0.3918 - val_loss: 1.8477 - val_acc: 0.3829\n",
      "Epoch 3/50\n",
      "50000/50000 [==============================] - 4s 86us/step - loss: 1.6116 - acc: 0.4329 - val_loss: 1.6743 - val_acc: 0.4190\n",
      "Epoch 4/50\n",
      "50000/50000 [==============================] - 4s 87us/step - loss: 1.5378 - acc: 0.4589 - val_loss: 1.6302 - val_acc: 0.4296\n",
      "Epoch 5/50\n",
      "50000/50000 [==============================] - 4s 88us/step - loss: 1.4833 - acc: 0.4792 - val_loss: 1.5915 - val_acc: 0.4412\n",
      "Epoch 6/50\n",
      "50000/50000 [==============================] - 4s 81us/step - loss: 1.4372 - acc: 0.4980 - val_loss: 1.5686 - val_acc: 0.4454\n",
      "Epoch 7/50\n",
      "50000/50000 [==============================] - 4s 78us/step - loss: 1.3981 - acc: 0.5101 - val_loss: 1.5643 - val_acc: 0.4450\n",
      "Epoch 8/50\n",
      "50000/50000 [==============================] - 4s 83us/step - loss: 1.3630 - acc: 0.5239 - val_loss: 1.5398 - val_acc: 0.4602\n",
      "Epoch 9/50\n",
      "50000/50000 [==============================] - 4s 77us/step - loss: 1.3293 - acc: 0.5366 - val_loss: 1.5150 - val_acc: 0.4671\n",
      "Epoch 10/50\n",
      "50000/50000 [==============================] - 4s 83us/step - loss: 1.2990 - acc: 0.5475 - val_loss: 1.5050 - val_acc: 0.4672\n",
      "Epoch 11/50\n",
      "50000/50000 [==============================] - 5s 99us/step - loss: 1.2705 - acc: 0.5573 - val_loss: 1.5013 - val_acc: 0.4716\n",
      "Epoch 12/50\n",
      "50000/50000 [==============================] - 4s 83us/step - loss: 1.2433 - acc: 0.5672 - val_loss: 1.4855 - val_acc: 0.4777\n",
      "Epoch 13/50\n",
      "50000/50000 [==============================] - 4s 79us/step - loss: 1.2173 - acc: 0.5791 - val_loss: 1.4837 - val_acc: 0.4823\n",
      "Epoch 14/50\n",
      "50000/50000 [==============================] - 4s 81us/step - loss: 1.1918 - acc: 0.5864 - val_loss: 1.4730 - val_acc: 0.4875\n",
      "Epoch 15/50\n",
      "50000/50000 [==============================] - 4s 77us/step - loss: 1.1684 - acc: 0.5958 - val_loss: 1.4761 - val_acc: 0.4834\n",
      "Epoch 16/50\n",
      "50000/50000 [==============================] - 4s 78us/step - loss: 1.1440 - acc: 0.6047 - val_loss: 1.4846 - val_acc: 0.4895\n",
      "Epoch 17/50\n",
      "50000/50000 [==============================] - 4s 77us/step - loss: 1.1207 - acc: 0.6146 - val_loss: 1.4677 - val_acc: 0.4911\n",
      "Epoch 18/50\n",
      "50000/50000 [==============================] - 4s 77us/step - loss: 1.0982 - acc: 0.6230 - val_loss: 1.4572 - val_acc: 0.4876\n",
      "Epoch 19/50\n",
      "50000/50000 [==============================] - 4s 79us/step - loss: 1.0750 - acc: 0.6325 - val_loss: 1.4682 - val_acc: 0.4912\n",
      "Epoch 20/50\n",
      "50000/50000 [==============================] - 4s 81us/step - loss: 1.0513 - acc: 0.6420 - val_loss: 1.4591 - val_acc: 0.4923\n",
      "Epoch 21/50\n",
      "50000/50000 [==============================] - 4s 82us/step - loss: 1.0303 - acc: 0.6496 - val_loss: 1.4829 - val_acc: 0.4888\n",
      "Epoch 22/50\n",
      "50000/50000 [==============================] - 4s 78us/step - loss: 1.0076 - acc: 0.6584 - val_loss: 1.4560 - val_acc: 0.4939\n",
      "Epoch 23/50\n",
      "50000/50000 [==============================] - 4s 77us/step - loss: 0.9876 - acc: 0.6660 - val_loss: 1.4634 - val_acc: 0.4978\n",
      "Epoch 24/50\n",
      "50000/50000 [==============================] - 4s 79us/step - loss: 0.9665 - acc: 0.6738 - val_loss: 1.4737 - val_acc: 0.4971\n",
      "Epoch 25/50\n",
      "50000/50000 [==============================] - 4s 77us/step - loss: 0.9461 - acc: 0.6838 - val_loss: 1.4796 - val_acc: 0.4899\n",
      "Epoch 26/50\n",
      "50000/50000 [==============================] - 4s 78us/step - loss: 0.9246 - acc: 0.6902 - val_loss: 1.4675 - val_acc: 0.4991\n",
      "Epoch 27/50\n",
      "50000/50000 [==============================] - 4s 77us/step - loss: 0.9028 - acc: 0.6993 - val_loss: 1.4732 - val_acc: 0.4952\n",
      "Epoch 28/50\n",
      "50000/50000 [==============================] - 4s 83us/step - loss: 0.8842 - acc: 0.7084 - val_loss: 1.4904 - val_acc: 0.4907\n",
      "Epoch 29/50\n",
      "50000/50000 [==============================] - 4s 80us/step - loss: 0.8621 - acc: 0.7156 - val_loss: 1.4959 - val_acc: 0.4894\n",
      "Epoch 30/50\n",
      "50000/50000 [==============================] - 4s 79us/step - loss: 0.8442 - acc: 0.7223 - val_loss: 1.4998 - val_acc: 0.4935\n",
      "Epoch 31/50\n",
      "50000/50000 [==============================] - 4s 79us/step - loss: 0.8231 - acc: 0.7303 - val_loss: 1.5017 - val_acc: 0.4905\n",
      "Epoch 32/50\n",
      "50000/50000 [==============================] - 4s 81us/step - loss: 0.8024 - acc: 0.7383 - val_loss: 1.5113 - val_acc: 0.4928\n",
      "Epoch 33/50\n",
      "50000/50000 [==============================] - 4s 77us/step - loss: 0.7852 - acc: 0.7464 - val_loss: 1.5107 - val_acc: 0.4954\n",
      "Epoch 34/50\n",
      "50000/50000 [==============================] - 4s 84us/step - loss: 0.7660 - acc: 0.7515 - val_loss: 1.5270 - val_acc: 0.4935\n",
      "Epoch 35/50\n",
      "50000/50000 [==============================] - 4s 82us/step - loss: 0.7472 - acc: 0.7611 - val_loss: 1.5365 - val_acc: 0.4877\n",
      "Epoch 36/50\n",
      "50000/50000 [==============================] - 4s 81us/step - loss: 0.7282 - acc: 0.7673 - val_loss: 1.5379 - val_acc: 0.4919\n",
      "Epoch 37/50\n",
      "50000/50000 [==============================] - 4s 82us/step - loss: 0.7103 - acc: 0.7751 - val_loss: 1.5415 - val_acc: 0.4905\n",
      "Epoch 38/50\n",
      "50000/50000 [==============================] - 4s 78us/step - loss: 0.6900 - acc: 0.7821 - val_loss: 1.5537 - val_acc: 0.4895\n",
      "Epoch 39/50\n",
      "50000/50000 [==============================] - 4s 78us/step - loss: 0.6706 - acc: 0.7922 - val_loss: 1.5668 - val_acc: 0.4928\n",
      "Epoch 40/50\n",
      "50000/50000 [==============================] - 4s 79us/step - loss: 0.6540 - acc: 0.7967 - val_loss: 1.5641 - val_acc: 0.4908\n",
      "Epoch 41/50\n",
      "50000/50000 [==============================] - 4s 77us/step - loss: 0.6331 - acc: 0.8062 - val_loss: 1.5813 - val_acc: 0.4906\n",
      "Epoch 42/50\n",
      "50000/50000 [==============================] - 4s 77us/step - loss: 0.6154 - acc: 0.8130 - val_loss: 1.5950 - val_acc: 0.4868\n",
      "Epoch 43/50\n",
      "50000/50000 [==============================] - 4s 77us/step - loss: 0.5965 - acc: 0.8204 - val_loss: 1.6017 - val_acc: 0.4848\n",
      "Epoch 44/50\n",
      "50000/50000 [==============================] - 4s 80us/step - loss: 0.5817 - acc: 0.8253 - val_loss: 1.6115 - val_acc: 0.4915\n",
      "Epoch 45/50\n",
      "50000/50000 [==============================] - 4s 77us/step - loss: 0.5646 - acc: 0.8328 - val_loss: 1.6268 - val_acc: 0.4831\n",
      "Epoch 46/50\n",
      "50000/50000 [==============================] - 4s 77us/step - loss: 0.5474 - acc: 0.8395 - val_loss: 1.6444 - val_acc: 0.4827\n",
      "Epoch 47/50\n",
      "50000/50000 [==============================] - 4s 78us/step - loss: 0.5297 - acc: 0.8471 - val_loss: 1.6393 - val_acc: 0.4818\n",
      "Epoch 48/50\n",
      "50000/50000 [==============================] - 4s 78us/step - loss: 0.5142 - acc: 0.8528 - val_loss: 1.6601 - val_acc: 0.4829\n",
      "Epoch 49/50\n",
      "50000/50000 [==============================] - 4s 77us/step - loss: 0.4966 - acc: 0.8595 - val_loss: 1.6893 - val_acc: 0.4829\n",
      "Epoch 50/50\n",
      "50000/50000 [==============================] - 4s 77us/step - loss: 0.4805 - acc: 0.8659 - val_loss: 1.6854 - val_acc: 0.4849\n",
      "10000/10000 [==============================] - 1s 79us/step\n"
     ]
    }
   ],
   "source": [
    "# 載入 Callbacks\n",
    "\"\"\"Code Here\n",
    "設定 callbacks: model checkpoint\n",
    "\"\"\"\n",
    "from keras.callbacks import ModelCheckpoint\n",
    "\n",
    "model_ckpt = ModelCheckpoint(filepath=\"./tmp.h5\", \n",
    "                             monitor=\"val_loss\", \n",
    "                             save_best_only=False)\n",
    "\n",
    "results = {}\n",
    "\"\"\"Code Here\n",
    "撰寫你的訓練流程並將結果用 dictionary 紀錄\n",
    "\"\"\"\n",
    "model = build_mlp(input_shape=x_train.shape[1:])\n",
    "model.summary()\n",
    "optimizer = keras.optimizers.SGD(lr=LEARNING_RATE, nesterov=True, momentum=MOMENTUM)\n",
    "model.compile(loss=\"categorical_crossentropy\", metrics=[\"accuracy\"], optimizer=optimizer)\n",
    "\n",
    "model.fit(x_train, y_train, \n",
    "          epochs=EPOCHS, \n",
    "          batch_size=BATCH_SIZE, \n",
    "          validation_data=(x_test, y_test), \n",
    "          shuffle=True,\n",
    "          callbacks=[model_ckpt]\n",
    "         )\n",
    "\n",
    "# Collect results\n",
    "train_loss = model.history.history[\"loss\"]\n",
    "valid_loss = model.history.history[\"val_loss\"]\n",
    "train_acc = model.history.history[\"acc\"]\n",
    "valid_acc = model.history.history[\"val_acc\"]\n",
    "\n",
    "# Load back\n",
    "model = keras.models.load_model(\"./tmp.h5\")\n",
    "loss_loadback, acc_loadback = model.evaluate(x_test, y_test)"
   ]
  },
  {
   "cell_type": "code",
   "execution_count": 8,
   "metadata": {
    "scrolled": true
   },
   "outputs": [
    {
     "data": {
      "image/png": "[encoded data removed]",
      "text/plain": [
       "<Figure size 432x288 with 1 Axes>"
      ]
     },
     "metadata": {
      "needs_background": "light"
     },
     "output_type": "display_data"
    },
    {
     "data": {
      "image/png": "[encoded data removed]",
      "text/plain": [
       "<Figure size 432x288 with 1 Axes>"
      ]
     },
     "metadata": {
      "needs_background": "light"
     },
     "output_type": "display_data"
    }
   ],
   "source": [
    "import matplotlib.pyplot as plt\n",
    "%matplotlib inline\n",
    "\"\"\"Code Here\n",
    "將結果繪出\n",
    "\"\"\"\n",
    "plt.plot(range(len(train_loss)), train_loss, label=\"train loss\")\n",
    "plt.plot(range(len(valid_loss)), valid_loss, label=\"valid loss\")\n",
    "plt.hlines(y=loss_loadback, xmin=0, xmax=len(train_loss), colors='r', linestyles='--')\n",
    "plt.legend()\n",
    "plt.title(\"Loss\")\n",
    "plt.show()\n",
    "\n",
    "plt.plot(range(len(train_acc)), train_acc, label=\"train accuracy\")\n",
    "plt.plot(range(len(valid_acc)), valid_acc, label=\"valid accuracy\")\n",
    "plt.hlines(y=acc_loadback, xmin=0, xmax=len(train_loss), colors='r', linestyles='--')\n",
    "plt.legend()\n",
    "plt.title(\"Accuracy\")\n",
    "plt.show()"
   ]
  },
  {
   "cell_type": "markdown",
   "metadata": {},
   "source": [
    "# save_best_only=False hlines有上移 大致上無差異"
   ]
  },
  {
   "cell_type": "code",
   "execution_count": 10,
   "metadata": {},
   "outputs": [
    {
     "name": "stdout",
     "output_type": "stream",
     "text": [
      "_________________________________________________________________\n",
      "Layer (type)                 Output Shape              Param #   \n",
      "=================================================================\n",
      "input_3 (InputLayer)         (None, 3072)              0         \n",
      "_________________________________________________________________\n",
      "hiddden_layer1 (Dense)       (None, 512)               1573376   \n",
      "_________________________________________________________________\n",
      "batch_normalization_7 (Batch (None, 512)               2048      \n",
      "_________________________________________________________________\n",
      "hidden_layer2 (Dense)        (None, 256)               131328    \n",
      "_________________________________________________________________\n",
      "batch_normalization_8 (Batch (None, 256)               1024      \n",
      "_________________________________________________________________\n",
      "hidden_layer3 (Dense)        (None, 128)               32896     \n",
      "_________________________________________________________________\n",
      "batch_normalization_9 (Batch (None, 128)               512       \n",
      "_________________________________________________________________\n",
      "output (Dense)               (None, 10)                1290      \n",
      "=================================================================\n",
      "Total params: 1,742,474\n",
      "Trainable params: 1,740,682\n",
      "Non-trainable params: 1,792\n",
      "_________________________________________________________________\n",
      "Train on 50000 samples, validate on 10000 samples\n",
      "Epoch 1/50\n",
      "50000/50000 [==============================] - 5s 103us/step - loss: 2.2220 - acc: 0.2644 - val_loss: 2.1254 - val_acc: 0.3101\n",
      "Epoch 2/50\n",
      "50000/50000 [==============================] - 4s 86us/step - loss: 1.7423 - acc: 0.3898 - val_loss: 1.7923 - val_acc: 0.3802\n",
      "Epoch 3/50\n",
      "50000/50000 [==============================] - 4s 87us/step - loss: 1.6150 - acc: 0.4334 - val_loss: 1.6774 - val_acc: 0.4109\n",
      "Epoch 4/50\n",
      "50000/50000 [==============================] - 4s 84us/step - loss: 1.5427 - acc: 0.4592 - val_loss: 1.6321 - val_acc: 0.4218\n",
      "Epoch 5/50\n",
      "50000/50000 [==============================] - 4s 77us/step - loss: 1.4876 - acc: 0.4781 - val_loss: 1.6006 - val_acc: 0.4338\n",
      "Epoch 6/50\n",
      "50000/50000 [==============================] - 4s 80us/step - loss: 1.4440 - acc: 0.4933 - val_loss: 1.5776 - val_acc: 0.4427\n",
      "Epoch 7/50\n",
      "50000/50000 [==============================] - 4s 79us/step - loss: 1.4050 - acc: 0.5094 - val_loss: 1.5502 - val_acc: 0.4522\n",
      "Epoch 8/50\n",
      "50000/50000 [==============================] - 4s 82us/step - loss: 1.3702 - acc: 0.5212 - val_loss: 1.5349 - val_acc: 0.4543\n",
      "Epoch 9/50\n",
      "50000/50000 [==============================] - 5s 91us/step - loss: 1.3393 - acc: 0.5333 - val_loss: 1.5119 - val_acc: 0.4649\n",
      "Epoch 10/50\n",
      "50000/50000 [==============================] - 4s 88us/step - loss: 1.3098 - acc: 0.5445 - val_loss: 1.5045 - val_acc: 0.4642\n",
      "Epoch 11/50\n",
      "50000/50000 [==============================] - 4s 79us/step - loss: 1.2790 - acc: 0.5537 - val_loss: 1.4955 - val_acc: 0.4709\n",
      "Epoch 12/50\n",
      "50000/50000 [==============================] - 4s 77us/step - loss: 1.2534 - acc: 0.5648 - val_loss: 1.4941 - val_acc: 0.4684\n",
      "Epoch 13/50\n",
      "50000/50000 [==============================] - 4s 77us/step - loss: 1.2295 - acc: 0.5741 - val_loss: 1.4794 - val_acc: 0.4740\n",
      "Epoch 14/50\n",
      "50000/50000 [==============================] - 4s 82us/step - loss: 1.2036 - acc: 0.5831 - val_loss: 1.4802 - val_acc: 0.4762\n",
      "Epoch 15/50\n",
      "50000/50000 [==============================] - 4s 85us/step - loss: 1.1782 - acc: 0.5932 - val_loss: 1.4798 - val_acc: 0.4756\n",
      "Epoch 16/50\n",
      "50000/50000 [==============================] - 5s 95us/step - loss: 1.1559 - acc: 0.6017 - val_loss: 1.4822 - val_acc: 0.4751\n",
      "Epoch 17/50\n",
      "50000/50000 [==============================] - 4s 79us/step - loss: 1.1312 - acc: 0.6119 - val_loss: 1.4650 - val_acc: 0.4815\n",
      "Epoch 18/50\n",
      "50000/50000 [==============================] - 4s 79us/step - loss: 1.1092 - acc: 0.6230 - val_loss: 1.4698 - val_acc: 0.4831\n",
      "Epoch 19/50\n",
      "50000/50000 [==============================] - 4s 81us/step - loss: 1.0884 - acc: 0.6278 - val_loss: 1.4744 - val_acc: 0.4820\n",
      "Epoch 20/50\n",
      "50000/50000 [==============================] - 4s 90us/step - loss: 1.0646 - acc: 0.6371 - val_loss: 1.4664 - val_acc: 0.4862\n",
      "Epoch 21/50\n",
      "50000/50000 [==============================] - 4s 89us/step - loss: 1.0422 - acc: 0.6462 - val_loss: 1.4606 - val_acc: 0.4874\n",
      "Epoch 22/50\n",
      "50000/50000 [==============================] - 4s 89us/step - loss: 1.0240 - acc: 0.6522 - val_loss: 1.4583 - val_acc: 0.4894\n",
      "Epoch 23/50\n",
      "50000/50000 [==============================] - 4s 84us/step - loss: 1.0028 - acc: 0.6620 - val_loss: 1.4806 - val_acc: 0.4839\n",
      "Epoch 24/50\n",
      "50000/50000 [==============================] - 4s 80us/step - loss: 0.9793 - acc: 0.6721 - val_loss: 1.4620 - val_acc: 0.4929\n",
      "Epoch 25/50\n",
      "50000/50000 [==============================] - 4s 85us/step - loss: 0.9581 - acc: 0.6797 - val_loss: 1.4797 - val_acc: 0.4875\n",
      "Epoch 26/50\n",
      "50000/50000 [==============================] - 4s 86us/step - loss: 0.9378 - acc: 0.6867 - val_loss: 1.4725 - val_acc: 0.4920\n",
      "Epoch 27/50\n",
      "50000/50000 [==============================] - 5s 90us/step - loss: 0.9188 - acc: 0.6956 - val_loss: 1.4792 - val_acc: 0.4902\n",
      "Epoch 28/50\n",
      "50000/50000 [==============================] - 5s 92us/step - loss: 0.8978 - acc: 0.7029 - val_loss: 1.4819 - val_acc: 0.4893\n",
      "Epoch 29/50\n",
      "50000/50000 [==============================] - 5s 93us/step - loss: 0.8780 - acc: 0.7100 - val_loss: 1.4900 - val_acc: 0.4906\n",
      "Epoch 30/50\n",
      "50000/50000 [==============================] - 4s 78us/step - loss: 0.8576 - acc: 0.7180 - val_loss: 1.5116 - val_acc: 0.4870\n",
      "Epoch 31/50\n",
      "50000/50000 [==============================] - 4s 77us/step - loss: 0.8395 - acc: 0.7257 - val_loss: 1.5036 - val_acc: 0.4922\n",
      "Epoch 32/50\n",
      "50000/50000 [==============================] - 5s 91us/step - loss: 0.8191 - acc: 0.7347 - val_loss: 1.4985 - val_acc: 0.4938\n",
      "Epoch 33/50\n",
      "50000/50000 [==============================] - 4s 82us/step - loss: 0.8006 - acc: 0.7421 - val_loss: 1.5069 - val_acc: 0.4894\n",
      "Epoch 34/50\n",
      "50000/50000 [==============================] - 4s 78us/step - loss: 0.7826 - acc: 0.7486 - val_loss: 1.5180 - val_acc: 0.4867\n",
      "Epoch 35/50\n",
      "50000/50000 [==============================] - 4s 88us/step - loss: 0.7639 - acc: 0.7555 - val_loss: 1.5282 - val_acc: 0.4918\n",
      "Epoch 36/50\n",
      "50000/50000 [==============================] - 4s 81us/step - loss: 0.7436 - acc: 0.7650 - val_loss: 1.5310 - val_acc: 0.4909\n",
      "Epoch 37/50\n",
      "50000/50000 [==============================] - 4s 82us/step - loss: 0.7237 - acc: 0.7721 - val_loss: 1.5380 - val_acc: 0.4895\n",
      "Epoch 38/50\n",
      "50000/50000 [==============================] - 5s 93us/step - loss: 0.7063 - acc: 0.7792 - val_loss: 1.5532 - val_acc: 0.4874\n",
      "Epoch 39/50\n",
      "50000/50000 [==============================] - 4s 85us/step - loss: 0.6874 - acc: 0.7853 - val_loss: 1.5699 - val_acc: 0.4883\n",
      "Epoch 40/50\n",
      "50000/50000 [==============================] - 4s 80us/step - loss: 0.6701 - acc: 0.7931 - val_loss: 1.5736 - val_acc: 0.4852\n",
      "Epoch 41/50\n",
      "50000/50000 [==============================] - 4s 78us/step - loss: 0.6497 - acc: 0.8006 - val_loss: 1.5825 - val_acc: 0.4907\n",
      "Epoch 42/50\n",
      "50000/50000 [==============================] - 4s 79us/step - loss: 0.6319 - acc: 0.8084 - val_loss: 1.5862 - val_acc: 0.4891\n",
      "Epoch 43/50\n",
      "50000/50000 [==============================] - 4s 78us/step - loss: 0.6157 - acc: 0.8128 - val_loss: 1.6051 - val_acc: 0.4907\n",
      "Epoch 44/50\n",
      "50000/50000 [==============================] - 4s 80us/step - loss: 0.5979 - acc: 0.8217 - val_loss: 1.6189 - val_acc: 0.4873\n",
      "Epoch 45/50\n",
      "50000/50000 [==============================] - 4s 77us/step - loss: 0.5821 - acc: 0.8281 - val_loss: 1.6379 - val_acc: 0.4899\n",
      "Epoch 46/50\n",
      "50000/50000 [==============================] - 4s 78us/step - loss: 0.5637 - acc: 0.8350 - val_loss: 1.6487 - val_acc: 0.4791\n",
      "Epoch 47/50\n",
      "50000/50000 [==============================] - 4s 78us/step - loss: 0.5480 - acc: 0.8414 - val_loss: 1.6880 - val_acc: 0.4825\n",
      "Epoch 48/50\n",
      "50000/50000 [==============================] - 4s 82us/step - loss: 0.5305 - acc: 0.8482 - val_loss: 1.6564 - val_acc: 0.4841\n",
      "Epoch 49/50\n",
      "50000/50000 [==============================] - 5s 92us/step - loss: 0.5151 - acc: 0.8533 - val_loss: 1.6739 - val_acc: 0.4845\n"
     ]
    },
    {
     "name": "stdout",
     "output_type": "stream",
     "text": [
      "Epoch 50/50\n",
      "50000/50000 [==============================] - 4s 80us/step - loss: 0.4977 - acc: 0.8606 - val_loss: 1.7112 - val_acc: 0.4796\n"
     ]
    }
   ],
   "source": [
    "model_ckpt = ModelCheckpoint(filepath=\"./tmp.h5\", \n",
    "                             monitor=\"val_loss\", \n",
    "                             save_weights_only=True)\n",
    "\n",
    "results = {}\n",
    "\"\"\"Code Here\n",
    "撰寫你的訓練流程並將結果用 dictionary 紀錄\n",
    "\"\"\"\n",
    "model = build_mlp(input_shape=x_train.shape[1:])\n",
    "model.summary()\n",
    "optimizer = keras.optimizers.SGD(lr=LEARNING_RATE, nesterov=True, momentum=MOMENTUM)\n",
    "model.compile(loss=\"categorical_crossentropy\", metrics=[\"accuracy\"], optimizer=optimizer)\n",
    "\n",
    "model.fit(x_train, y_train, \n",
    "          epochs=EPOCHS, \n",
    "          batch_size=BATCH_SIZE, \n",
    "          validation_data=(x_test, y_test), \n",
    "          shuffle=True,\n",
    "          callbacks=[model_ckpt]\n",
    "         )\n",
    "\n",
    "# Collect results\n",
    "train_loss = model.history.history[\"loss\"]\n",
    "valid_loss = model.history.history[\"val_loss\"]\n",
    "train_acc = model.history.history[\"acc\"]\n",
    "valid_acc = model.history.history[\"val_acc\"]"
   ]
  },
  {
   "cell_type": "code",
   "execution_count": 11,
   "metadata": {},
   "outputs": [],
   "source": [
    "# Load back\n",
    "model.load_weights(\"./tmp.h5\")"
   ]
  },
  {
   "cell_type": "code",
   "execution_count": 12,
   "metadata": {},
   "outputs": [
    {
     "data": {
      "image/png": "[encoded data removed]",
      "text/plain": [
       "<Figure size 432x288 with 1 Axes>"
      ]
     },
     "metadata": {
      "needs_background": "light"
     },
     "output_type": "display_data"
    },
    {
     "data": {
      "image/png": "[encoded data removed]",
      "text/plain": [
       "<Figure size 432x288 with 1 Axes>"
      ]
     },
     "metadata": {
      "needs_background": "light"
     },
     "output_type": "display_data"
    }
   ],
   "source": [
    "plt.plot(range(len(train_loss)), train_loss, label=\"train loss\")\n",
    "plt.plot(range(len(valid_loss)), valid_loss, label=\"valid loss\")\n",
    "plt.hlines(y=loss_loadback, xmin=0, xmax=len(train_loss), colors='r', linestyles='--')\n",
    "plt.legend()\n",
    "plt.title(\"Loss\")\n",
    "plt.show()\n",
    "\n",
    "plt.plot(range(len(train_acc)), train_acc, label=\"train accuracy\")\n",
    "plt.plot(range(len(valid_acc)), valid_acc, label=\"valid accuracy\")\n",
    "plt.hlines(y=acc_loadback, xmin=0, xmax=len(train_loss), colors='r', linestyles='--')\n",
    "plt.legend()\n",
    "plt.title(\"Accuracy\")\n",
    "plt.show()"
   ]
  },
  {
   "cell_type": "code",
   "execution_count": null,
   "metadata": {},
   "outputs": [],
   "source": []
  }
 ],
 "metadata": {
  "kernelspec": {
   "display_name": "Python 3",
   "language": "python",
   "name": "python3"
  },
  "language_info": {
   "codemirror_mode": {
    "name": "ipython",
    "version": 3
   },
   "file_extension": ".py",
   "mimetype": "text/x-python",
   "name": "python",
   "nbconvert_exporter": "python",
   "pygments_lexer": "ipython3",
   "version": "3.7.3"
  }
 },
 "nbformat": 4,
 "nbformat_minor": 2
}
