{
 "cells": [
  {
   "cell_type": "markdown",
   "metadata": {},
   "source": [
    "## Work\n",
    "1. 試改變 monitor \"Validation Accuracy\" 並比較結果\n",
    "2. 調整 earlystop 的等待次數至 10, 25 並比較結果"
   ]
  },
  {
   "cell_type": "code",
   "execution_count": 1,
   "metadata": {},
   "outputs": [
    {
     "name": "stderr",
     "output_type": "stream",
     "text": [
      "Using TensorFlow backend.\n"
     ]
    }
   ],
   "source": [
    "import os\n",
    "import keras\n",
    "import matplotlib.pyplot as plt\n",
    "%matplotlib inline\n",
    "\n",
    "\n",
    "# Disable GPU\n",
    "os.environ[\"CUDA_VISIBLE_DEVICES\"] = \"\""
   ]
  },
  {
   "cell_type": "code",
   "execution_count": 2,
   "metadata": {},
   "outputs": [],
   "source": [
    "train, test = keras.datasets.cifar10.load_data()"
   ]
  },
  {
   "cell_type": "code",
   "execution_count": 3,
   "metadata": {},
   "outputs": [],
   "source": [
    "## 資料前處理\n",
    "def preproc_x(x, flatten=True):\n",
    "    x = x / 255.\n",
    "    if flatten:\n",
    "        x = x.reshape((len(x), -1))\n",
    "    return x\n",
    "\n",
    "def preproc_y(y, num_classes=10):\n",
    "    if y.shape[-1] == 1:\n",
    "        y = keras.utils.to_categorical(y, num_classes)\n",
    "    return y    "
   ]
  },
  {
   "cell_type": "code",
   "execution_count": 4,
   "metadata": {},
   "outputs": [],
   "source": [
    "x_train, y_train = train\n",
    "x_test, y_test = test\n",
    "\n",
    "# Preproc the inputs\n",
    "x_train = preproc_x(x_train)\n",
    "x_test = preproc_x(x_test)\n",
    "\n",
    "# Preprc the outputs\n",
    "y_train = preproc_y(y_train)\n",
    "y_test = preproc_y(y_test)"
   ]
  },
  {
   "cell_type": "code",
   "execution_count": 10,
   "metadata": {},
   "outputs": [],
   "source": [
    "from keras.layers import BatchNormalization\n",
    "def build_mlp(input_shape, output_units=10, num_neurons=[512, 256, 128]):\n",
    "    \"\"\"Code Here\n",
    "    建立你的神經網路\n",
    "    \"\"\"\n",
    "    input_layer = keras.layers.Input(input_shape)\n",
    "    \n",
    "    for i, n_units in enumerate(num_neurons):\n",
    "        if i == 0:\n",
    "            x = keras.layers.Dense(units=n_units, \n",
    "                                   activation=\"relu\", \n",
    "                                   name=\"hidden_layer\"+str(i+1))(input_layer)\n",
    "            x = BatchNormalization()(x)\n",
    "        else:\n",
    "            x = keras.layers.Dense(units=n_units, \n",
    "                                   activation=\"relu\", \n",
    "                                   name=\"hidden_layer\"+str(i+1))(x)\n",
    "            x = BatchNormalization()(x)\n",
    "    \n",
    "    out = keras.layers.Dense(units=output_units, activation=\"softmax\", name=\"output\")(x)\n",
    "    \n",
    "    model = keras.models.Model(inputs=[input_layer], outputs=[out])\n",
    "    return model"
   ]
  },
  {
   "cell_type": "code",
   "execution_count": 11,
   "metadata": {},
   "outputs": [],
   "source": [
    "\"\"\"Code Here\n",
    "設定超參數\n",
    "\"\"\"\n",
    "LEARNING_RATE = 1e-3\n",
    "EPOCHS = 50\n",
    "BATCH_SIZE = 1024\n",
    "MOMENTUM = 0.95"
   ]
  },
  {
   "cell_type": "code",
   "execution_count": 12,
   "metadata": {},
   "outputs": [
    {
     "name": "stderr",
     "output_type": "stream",
     "text": [
      "W0721 19:56:57.911070  6724 deprecation_wrapper.py:119] From C:\\Users\\shoey\\Anaconda3\\envs\\tensorflow\\lib\\site-packages\\keras\\optimizers.py:790: The name tf.train.Optimizer is deprecated. Please use tf.compat.v1.train.Optimizer instead.\n",
      "\n",
      "W0721 19:56:57.918071  6724 deprecation_wrapper.py:119] From C:\\Users\\shoey\\Anaconda3\\envs\\tensorflow\\lib\\site-packages\\keras\\backend\\tensorflow_backend.py:3295: The name tf.log is deprecated. Please use tf.math.log instead.\n",
      "\n",
      "W0721 19:56:58.017076  6724 deprecation.py:323] From C:\\Users\\shoey\\Anaconda3\\envs\\tensorflow\\lib\\site-packages\\tensorflow\\python\\ops\\math_grad.py:1250: add_dispatch_support.<locals>.wrapper (from tensorflow.python.ops.array_ops) is deprecated and will be removed in a future version.\n",
      "Instructions for updating:\n",
      "Use tf.where in 2.0, which has the same broadcast rule as np.where\n"
     ]
    },
    {
     "name": "stdout",
     "output_type": "stream",
     "text": [
      "_________________________________________________________________\n",
      "Layer (type)                 Output Shape              Param #   \n",
      "=================================================================\n",
      "input_2 (InputLayer)         (None, 3072)              0         \n",
      "_________________________________________________________________\n",
      "hidden_layer1 (Dense)        (None, 512)               1573376   \n",
      "_________________________________________________________________\n",
      "batch_normalization_2 (Batch (None, 512)               2048      \n",
      "_________________________________________________________________\n",
      "hidden_layer2 (Dense)        (None, 256)               131328    \n",
      "_________________________________________________________________\n",
      "batch_normalization_3 (Batch (None, 256)               1024      \n",
      "_________________________________________________________________\n",
      "hidden_layer3 (Dense)        (None, 128)               32896     \n",
      "_________________________________________________________________\n",
      "batch_normalization_4 (Batch (None, 128)               512       \n",
      "_________________________________________________________________\n",
      "output (Dense)               (None, 10)                1290      \n",
      "=================================================================\n",
      "Total params: 1,742,474\n",
      "Trainable params: 1,740,682\n",
      "Non-trainable params: 1,792\n",
      "_________________________________________________________________\n",
      "Train on 50000 samples, validate on 10000 samples\n",
      "Epoch 1/50\n",
      "50000/50000 [==============================] - 10s 195us/step - loss: 2.1977 - acc: 0.2695 - val_loss: 2.0358 - val_acc: 0.3392\n",
      "Epoch 2/50\n",
      "50000/50000 [==============================] - 5s 92us/step - loss: 1.7302 - acc: 0.3980 - val_loss: 1.8396 - val_acc: 0.3675\n",
      "Epoch 3/50\n",
      "50000/50000 [==============================] - 5s 106us/step - loss: 1.6105 - acc: 0.4356 - val_loss: 1.7010 - val_acc: 0.4080\n",
      "Epoch 4/50\n",
      "50000/50000 [==============================] - 5s 98us/step - loss: 1.5381 - acc: 0.4649 - val_loss: 1.6340 - val_acc: 0.4227\n",
      "Epoch 5/50\n",
      "50000/50000 [==============================] - 5s 96us/step - loss: 1.4853 - acc: 0.4842 - val_loss: 1.6012 - val_acc: 0.4376\n",
      "Epoch 6/50\n",
      "50000/50000 [==============================] - 5s 101us/step - loss: 1.4401 - acc: 0.4988 - val_loss: 1.5736 - val_acc: 0.4523\n",
      "Epoch 7/50\n",
      "50000/50000 [==============================] - 5s 93us/step - loss: 1.4014 - acc: 0.5122 - val_loss: 1.5505 - val_acc: 0.4595\n",
      "Epoch 8/50\n",
      "50000/50000 [==============================] - 4s 90us/step - loss: 1.3664 - acc: 0.5250 - val_loss: 1.5393 - val_acc: 0.4635\n",
      "Epoch 9/50\n",
      "50000/50000 [==============================] - 4s 85us/step - loss: 1.3352 - acc: 0.5370 - val_loss: 1.5157 - val_acc: 0.4654\n",
      "Epoch 10/50\n",
      "50000/50000 [==============================] - 4s 87us/step - loss: 1.3055 - acc: 0.5474 - val_loss: 1.5115 - val_acc: 0.4726\n",
      "Epoch 11/50\n",
      "50000/50000 [==============================] - 4s 85us/step - loss: 1.2771 - acc: 0.5571 - val_loss: 1.4951 - val_acc: 0.4767\n",
      "Epoch 12/50\n",
      "50000/50000 [==============================] - 4s 89us/step - loss: 1.2501 - acc: 0.5673 - val_loss: 1.4881 - val_acc: 0.4786\n",
      "Epoch 13/50\n",
      "50000/50000 [==============================] - 4s 88us/step - loss: 1.2238 - acc: 0.5774 - val_loss: 1.4792 - val_acc: 0.4864\n",
      "Epoch 14/50\n",
      "50000/50000 [==============================] - 4s 90us/step - loss: 1.1991 - acc: 0.5851 - val_loss: 1.4793 - val_acc: 0.4867\n",
      "Epoch 15/50\n",
      "50000/50000 [==============================] - 4s 86us/step - loss: 1.1756 - acc: 0.5951 - val_loss: 1.4669 - val_acc: 0.4906\n",
      "Epoch 16/50\n",
      "50000/50000 [==============================] - 4s 89us/step - loss: 1.1531 - acc: 0.6047 - val_loss: 1.4625 - val_acc: 0.4856\n",
      "Epoch 17/50\n",
      "50000/50000 [==============================] - 4s 90us/step - loss: 1.1276 - acc: 0.6135 - val_loss: 1.4677 - val_acc: 0.4922\n",
      "Epoch 18/50\n",
      "50000/50000 [==============================] - 5s 90us/step - loss: 1.1065 - acc: 0.6206 - val_loss: 1.4628 - val_acc: 0.4910\n",
      "Epoch 19/50\n",
      "50000/50000 [==============================] - 4s 90us/step - loss: 1.0833 - acc: 0.6303 - val_loss: 1.4536 - val_acc: 0.4942\n",
      "Epoch 20/50\n",
      "50000/50000 [==============================] - 5s 91us/step - loss: 1.0617 - acc: 0.6392 - val_loss: 1.4616 - val_acc: 0.4900\n",
      "Epoch 21/50\n",
      "50000/50000 [==============================] - 4s 86us/step - loss: 1.0408 - acc: 0.6459 - val_loss: 1.4590 - val_acc: 0.4962\n",
      "Epoch 22/50\n",
      "50000/50000 [==============================] - 5s 99us/step - loss: 1.0189 - acc: 0.6544 - val_loss: 1.4646 - val_acc: 0.4904\n",
      "Epoch 23/50\n",
      "50000/50000 [==============================] - 5s 97us/step - loss: 0.9973 - acc: 0.6636 - val_loss: 1.4571 - val_acc: 0.4998\n",
      "Epoch 24/50\n",
      "50000/50000 [==============================] - 5s 99us/step - loss: 0.9768 - acc: 0.6712 - val_loss: 1.4633 - val_acc: 0.4959\n",
      "Epoch 25/50\n",
      "50000/50000 [==============================] - 5s 91us/step - loss: 0.9559 - acc: 0.6804 - val_loss: 1.4767 - val_acc: 0.4962\n",
      "Epoch 26/50\n",
      "50000/50000 [==============================] - 4s 86us/step - loss: 0.9372 - acc: 0.6871 - val_loss: 1.4786 - val_acc: 0.4978\n",
      "Epoch 27/50\n",
      "50000/50000 [==============================] - 4s 82us/step - loss: 0.9155 - acc: 0.6945 - val_loss: 1.4755 - val_acc: 0.4968\n",
      "Epoch 28/50\n",
      "50000/50000 [==============================] - 4s 86us/step - loss: 0.8978 - acc: 0.7007 - val_loss: 1.4726 - val_acc: 0.4968\n",
      "Epoch 00028: early stopping\n"
     ]
    }
   ],
   "source": [
    "# 載入 Callbacks\n",
    "\"\"\"Code Here\n",
    "設定 callbacks: Earlystop\n",
    "\"\"\"\n",
    "from keras.callbacks import EarlyStopping\n",
    "\n",
    "earlystop = EarlyStopping(monitor=\"val_acc\", \n",
    "                          patience=5, \n",
    "                          verbose=1\n",
    "                          )\n",
    "\n",
    "results = {}\n",
    "\"\"\"Code Here\n",
    "撰寫你的訓練流程並將結果用 dictionary 紀錄\n",
    "\"\"\"\n",
    "model = build_mlp(input_shape=x_train.shape[1:])\n",
    "model.summary()\n",
    "optimizer = keras.optimizers.SGD(lr=LEARNING_RATE, nesterov=True, momentum=MOMENTUM)\n",
    "model.compile(loss=\"categorical_crossentropy\", metrics=[\"accuracy\"], optimizer=optimizer)\n",
    "\n",
    "model.fit(x_train, y_train, \n",
    "          epochs=EPOCHS, \n",
    "          batch_size=BATCH_SIZE, \n",
    "          validation_data=(x_test, y_test), \n",
    "          shuffle=True,\n",
    "          callbacks=[earlystop]\n",
    "         )\n",
    "\n",
    "# Collect results\n",
    "train_loss = model.history.history[\"loss\"]\n",
    "valid_loss = model.history.history[\"val_loss\"]\n",
    "train_acc = model.history.history[\"acc\"]\n",
    "valid_acc = model.history.history[\"val_acc\"]"
   ]
  },
  {
   "cell_type": "code",
   "execution_count": 13,
   "metadata": {},
   "outputs": [
    {
     "data": {
      "image/png": "[encoded data removed]",
      "text/plain": [
       "<Figure size 432x288 with 1 Axes>"
      ]
     },
     "metadata": {
      "needs_background": "light"
     },
     "output_type": "display_data"
    },
    {
     "data": {
      "image/png": "[encoded data removed]",
      "text/plain": [
       "<Figure size 432x288 with 1 Axes>"
      ]
     },
     "metadata": {
      "needs_background": "light"
     },
     "output_type": "display_data"
    }
   ],
   "source": [
    "import matplotlib.pyplot as plt\n",
    "%matplotlib inline\n",
    "\"\"\"Code Here\n",
    "將結果繪出\n",
    "\"\"\"\n",
    "plt.plot(range(len(train_loss)), train_loss, label=\"train loss\")\n",
    "plt.plot(range(len(valid_loss)), valid_loss, label=\"valid loss\")\n",
    "plt.legend()\n",
    "plt.title(\"Loss\")\n",
    "plt.show()\n",
    "\n",
    "plt.plot(range(len(train_acc)), train_acc, label=\"train accuracy\")\n",
    "plt.plot(range(len(valid_acc)), valid_acc, label=\"valid accuracy\")\n",
    "plt.legend()\n",
    "plt.title(\"Accuracy\")\n",
    "plt.show()"
   ]
  },
  {
   "cell_type": "code",
   "execution_count": 16,
   "metadata": {},
   "outputs": [
    {
     "name": "stdout",
     "output_type": "stream",
     "text": [
      "_________________________________________________________________\n",
      "Layer (type)                 Output Shape              Param #   \n",
      "=================================================================\n",
      "input_3 (InputLayer)         (None, 3072)              0         \n",
      "_________________________________________________________________\n",
      "hidden_layer1 (Dense)        (None, 512)               1573376   \n",
      "_________________________________________________________________\n",
      "batch_normalization_5 (Batch (None, 512)               2048      \n",
      "_________________________________________________________________\n",
      "hidden_layer2 (Dense)        (None, 256)               131328    \n",
      "_________________________________________________________________\n",
      "batch_normalization_6 (Batch (None, 256)               1024      \n",
      "_________________________________________________________________\n",
      "hidden_layer3 (Dense)        (None, 128)               32896     \n",
      "_________________________________________________________________\n",
      "batch_normalization_7 (Batch (None, 128)               512       \n",
      "_________________________________________________________________\n",
      "output (Dense)               (None, 10)                1290      \n",
      "=================================================================\n",
      "Total params: 1,742,474\n",
      "Trainable params: 1,740,682\n",
      "Non-trainable params: 1,792\n",
      "_________________________________________________________________\n",
      "Train on 50000 samples, validate on 10000 samples\n",
      "Epoch 1/50\n",
      "50000/50000 [==============================] - 5s 95us/step - loss: 2.2132 - acc: 0.2653 - val_loss: 2.0860 - val_acc: 0.3220\n",
      "Epoch 2/50\n",
      "50000/50000 [==============================] - 4s 82us/step - loss: 1.7465 - acc: 0.3896 - val_loss: 1.7983 - val_acc: 0.3862\n",
      "Epoch 3/50\n",
      "50000/50000 [==============================] - 4s 81us/step - loss: 1.6250 - acc: 0.4319 - val_loss: 1.6966 - val_acc: 0.4107\n",
      "Epoch 4/50\n",
      "50000/50000 [==============================] - 4s 82us/step - loss: 1.5510 - acc: 0.4555 - val_loss: 1.6293 - val_acc: 0.4300\n",
      "Epoch 5/50\n",
      "50000/50000 [==============================] - 4s 78us/step - loss: 1.4957 - acc: 0.4763 - val_loss: 1.6032 - val_acc: 0.4358\n",
      "Epoch 6/50\n",
      "50000/50000 [==============================] - 4s 79us/step - loss: 1.4500 - acc: 0.4953 - val_loss: 1.5627 - val_acc: 0.4441\n",
      "Epoch 7/50\n",
      "50000/50000 [==============================] - 4s 78us/step - loss: 1.4083 - acc: 0.5094 - val_loss: 1.5347 - val_acc: 0.4556\n",
      "Epoch 8/50\n",
      "50000/50000 [==============================] - 4s 78us/step - loss: 1.3722 - acc: 0.5230 - val_loss: 1.5280 - val_acc: 0.4599\n",
      "Epoch 9/50\n",
      "50000/50000 [==============================] - 4s 81us/step - loss: 1.3423 - acc: 0.5329 - val_loss: 1.5126 - val_acc: 0.4674\n",
      "Epoch 10/50\n",
      "50000/50000 [==============================] - 5s 96us/step - loss: 1.3104 - acc: 0.5457 - val_loss: 1.4915 - val_acc: 0.4797\n",
      "Epoch 11/50\n",
      "50000/50000 [==============================] - 4s 86us/step - loss: 1.2821 - acc: 0.5552 - val_loss: 1.4922 - val_acc: 0.4747\n",
      "Epoch 12/50\n",
      "50000/50000 [==============================] - 5s 97us/step - loss: 1.2567 - acc: 0.5650 - val_loss: 1.4728 - val_acc: 0.4760\n",
      "Epoch 13/50\n",
      "50000/50000 [==============================] - 6s 126us/step - loss: 1.2304 - acc: 0.5754 - val_loss: 1.4682 - val_acc: 0.4785\n",
      "Epoch 14/50\n",
      "50000/50000 [==============================] - 6s 112us/step - loss: 1.2043 - acc: 0.5858 - val_loss: 1.4604 - val_acc: 0.4825\n",
      "Epoch 15/50\n",
      "50000/50000 [==============================] - 5s 103us/step - loss: 1.1795 - acc: 0.5952 - val_loss: 1.4551 - val_acc: 0.4887\n",
      "Epoch 16/50\n",
      "50000/50000 [==============================] - 4s 87us/step - loss: 1.1573 - acc: 0.6026 - val_loss: 1.4708 - val_acc: 0.4810\n",
      "Epoch 17/50\n",
      "50000/50000 [==============================] - 4s 79us/step - loss: 1.1334 - acc: 0.6129 - val_loss: 1.4499 - val_acc: 0.4904\n",
      "Epoch 18/50\n",
      "50000/50000 [==============================] - 4s 80us/step - loss: 1.1118 - acc: 0.6191 - val_loss: 1.4438 - val_acc: 0.4927\n",
      "Epoch 19/50\n",
      "50000/50000 [==============================] - 4s 82us/step - loss: 1.0877 - acc: 0.6292 - val_loss: 1.4402 - val_acc: 0.4929\n",
      "Epoch 20/50\n",
      "50000/50000 [==============================] - 4s 84us/step - loss: 1.0654 - acc: 0.6362 - val_loss: 1.4435 - val_acc: 0.4965\n",
      "Epoch 21/50\n",
      "50000/50000 [==============================] - 5s 91us/step - loss: 1.0465 - acc: 0.6443 - val_loss: 1.4427 - val_acc: 0.4969\n",
      "Epoch 22/50\n",
      "50000/50000 [==============================] - 6s 115us/step - loss: 1.0237 - acc: 0.6535 - val_loss: 1.4493 - val_acc: 0.4964\n",
      "Epoch 23/50\n",
      "50000/50000 [==============================] - 7s 135us/step - loss: 1.0039 - acc: 0.6615 - val_loss: 1.4492 - val_acc: 0.4955\n",
      "Epoch 24/50\n",
      "50000/50000 [==============================] - 6s 129us/step - loss: 0.9838 - acc: 0.6687 - val_loss: 1.4472 - val_acc: 0.4996\n",
      "Epoch 25/50\n",
      "50000/50000 [==============================] - 6s 113us/step - loss: 0.9616 - acc: 0.6786 - val_loss: 1.4591 - val_acc: 0.4954\n",
      "Epoch 26/50\n",
      "50000/50000 [==============================] - 6s 122us/step - loss: 0.9419 - acc: 0.6839 - val_loss: 1.4857 - val_acc: 0.4864\n",
      "Epoch 27/50\n",
      "50000/50000 [==============================] - 6s 119us/step - loss: 0.9248 - acc: 0.6908 - val_loss: 1.4668 - val_acc: 0.4982\n",
      "Epoch 28/50\n",
      "50000/50000 [==============================] - 6s 127us/step - loss: 0.9031 - acc: 0.6986 - val_loss: 1.4775 - val_acc: 0.4915\n",
      "Epoch 29/50\n",
      "50000/50000 [==============================] - 6s 118us/step - loss: 0.8835 - acc: 0.7047 - val_loss: 1.4696 - val_acc: 0.4945\n",
      "Epoch 00029: early stopping\n"
     ]
    }
   ],
   "source": [
    "# 載入 Callbacks\n",
    "\"\"\"Code Here\n",
    "設定 callbacks: Earlystop\n",
    "\"\"\"\n",
    "from keras.callbacks import EarlyStopping\n",
    "\n",
    "earlystop = EarlyStopping(monitor=\"val_loss\",\n",
    "                          patience=10,\n",
    "                          verbose=1\n",
    "                          )\n",
    "\n",
    "\"\"\"Code Here\n",
    "撰寫你的訓練流程並將結果用 dictionary 紀錄\n",
    "\"\"\"\n",
    "model = build_mlp(input_shape=x_train.shape[1:])\n",
    "model.summary()\n",
    "optimizer = keras.optimizers.SGD(lr=LEARNING_RATE, nesterov=True, momentum=MOMENTUM)\n",
    "model.compile(loss=\"categorical_crossentropy\", metrics=[\"accuracy\"], optimizer=optimizer)\n",
    "\n",
    "model.fit(x_train, y_train, \n",
    "          epochs=EPOCHS, \n",
    "          batch_size=BATCH_SIZE, \n",
    "          validation_data=(x_test, y_test), \n",
    "          shuffle=True,\n",
    "          callbacks=[earlystop]\n",
    "         )\n",
    "\n",
    "# Collect results\n",
    "train_loss = model.history.history[\"loss\"]\n",
    "valid_loss = model.history.history[\"val_loss\"]\n",
    "train_acc = model.history.history[\"acc\"]\n",
    "valid_acc = model.history.history[\"val_acc\"]"
   ]
  },
  {
   "cell_type": "code",
   "execution_count": 17,
   "metadata": {},
   "outputs": [
    {
     "data": {
      "image/png": "[encoded data removed]",
      "text/plain": [
       "<Figure size 432x288 with 1 Axes>"
      ]
     },
     "metadata": {
      "needs_background": "light"
     },
     "output_type": "display_data"
    },
    {
     "data": {
      "image/png": "[encoded data removed]",
      "text/plain": [
       "<Figure size 432x288 with 1 Axes>"
      ]
     },
     "metadata": {
      "needs_background": "light"
     },
     "output_type": "display_data"
    }
   ],
   "source": [
    "import matplotlib.pyplot as plt\n",
    "%matplotlib inline\n",
    "\"\"\"Code Here\n",
    "將結果繪出\n",
    "\"\"\"\n",
    "plt.plot(range(len(train_loss)), train_loss, label=\"train loss\")\n",
    "plt.plot(range(len(valid_loss)), valid_loss, label=\"valid loss\")\n",
    "plt.legend()\n",
    "plt.title(\"Loss\")\n",
    "plt.show()\n",
    "\n",
    "plt.plot(range(len(train_acc)), train_acc, label=\"train accuracy\")\n",
    "plt.plot(range(len(valid_acc)), valid_acc, label=\"valid accuracy\")\n",
    "plt.legend()\n",
    "plt.title(\"Accuracy\")\n",
    "plt.show()"
   ]
  },
  {
   "cell_type": "code",
   "execution_count": 18,
   "metadata": {},
   "outputs": [
    {
     "name": "stdout",
     "output_type": "stream",
     "text": [
      "_________________________________________________________________\n",
      "Layer (type)                 Output Shape              Param #   \n",
      "=================================================================\n",
      "input_4 (InputLayer)         (None, 3072)              0         \n",
      "_________________________________________________________________\n",
      "hidden_layer1 (Dense)        (None, 512)               1573376   \n",
      "_________________________________________________________________\n",
      "batch_normalization_8 (Batch (None, 512)               2048      \n",
      "_________________________________________________________________\n",
      "hidden_layer2 (Dense)        (None, 256)               131328    \n",
      "_________________________________________________________________\n",
      "batch_normalization_9 (Batch (None, 256)               1024      \n",
      "_________________________________________________________________\n",
      "hidden_layer3 (Dense)        (None, 128)               32896     \n",
      "_________________________________________________________________\n",
      "batch_normalization_10 (Batc (None, 128)               512       \n",
      "_________________________________________________________________\n",
      "output (Dense)               (None, 10)                1290      \n",
      "=================================================================\n",
      "Total params: 1,742,474\n",
      "Trainable params: 1,740,682\n",
      "Non-trainable params: 1,792\n",
      "_________________________________________________________________\n",
      "Train on 50000 samples, validate on 10000 samples\n",
      "Epoch 1/50\n",
      "50000/50000 [==============================] - 7s 139us/step - loss: 2.1727 - acc: 0.2805 - val_loss: 2.0625 - val_acc: 0.3317\n",
      "Epoch 2/50\n",
      "50000/50000 [==============================] - 6s 114us/step - loss: 1.7321 - acc: 0.3967 - val_loss: 1.7891 - val_acc: 0.3841\n",
      "Epoch 3/50\n",
      "50000/50000 [==============================] - 6s 113us/step - loss: 1.6101 - acc: 0.4365 - val_loss: 1.6840 - val_acc: 0.4075\n",
      "Epoch 4/50\n",
      "50000/50000 [==============================] - 6s 114us/step - loss: 1.5348 - acc: 0.4618 - val_loss: 1.6313 - val_acc: 0.4243\n",
      "Epoch 5/50\n",
      "50000/50000 [==============================] - 6s 112us/step - loss: 1.4787 - acc: 0.4812 - val_loss: 1.5828 - val_acc: 0.4451\n",
      "Epoch 6/50\n",
      "50000/50000 [==============================] - 6s 116us/step - loss: 1.4322 - acc: 0.4988 - val_loss: 1.5537 - val_acc: 0.4607\n",
      "Epoch 7/50\n",
      "50000/50000 [==============================] - 6s 120us/step - loss: 1.3927 - acc: 0.5138 - val_loss: 1.5253 - val_acc: 0.4643\n",
      "Epoch 8/50\n",
      "50000/50000 [==============================] - 6s 116us/step - loss: 1.3565 - acc: 0.5258 - val_loss: 1.5151 - val_acc: 0.4715\n",
      "Epoch 9/50\n",
      "50000/50000 [==============================] - 6s 116us/step - loss: 1.3246 - acc: 0.5367 - val_loss: 1.5007 - val_acc: 0.4739\n",
      "Epoch 10/50\n",
      "50000/50000 [==============================] - 6s 119us/step - loss: 1.2950 - acc: 0.5498 - val_loss: 1.4996 - val_acc: 0.4688\n",
      "Epoch 11/50\n",
      "50000/50000 [==============================] - 6s 113us/step - loss: 1.2657 - acc: 0.5584 - val_loss: 1.4767 - val_acc: 0.4804\n",
      "Epoch 12/50\n",
      "50000/50000 [==============================] - 6s 112us/step - loss: 1.2372 - acc: 0.5708 - val_loss: 1.4690 - val_acc: 0.4808\n",
      "Epoch 13/50\n",
      "50000/50000 [==============================] - 6s 117us/step - loss: 1.2118 - acc: 0.5801 - val_loss: 1.4819 - val_acc: 0.4851\n",
      "Epoch 14/50\n",
      "50000/50000 [==============================] - 6s 114us/step - loss: 1.1859 - acc: 0.5889 - val_loss: 1.4634 - val_acc: 0.4876\n",
      "Epoch 15/50\n",
      "50000/50000 [==============================] - 6s 119us/step - loss: 1.1633 - acc: 0.5984 - val_loss: 1.4560 - val_acc: 0.4870\n",
      "Epoch 16/50\n",
      "50000/50000 [==============================] - 6s 115us/step - loss: 1.1409 - acc: 0.6060 - val_loss: 1.4553 - val_acc: 0.4945\n",
      "Epoch 17/50\n",
      "50000/50000 [==============================] - 6s 112us/step - loss: 1.1162 - acc: 0.6163 - val_loss: 1.4442 - val_acc: 0.4893\n",
      "Epoch 18/50\n",
      "50000/50000 [==============================] - 6s 113us/step - loss: 1.0940 - acc: 0.6230 - val_loss: 1.4515 - val_acc: 0.4909\n",
      "Epoch 19/50\n",
      "50000/50000 [==============================] - 6s 112us/step - loss: 1.0728 - acc: 0.6345 - val_loss: 1.4623 - val_acc: 0.4881\n",
      "Epoch 20/50\n",
      "50000/50000 [==============================] - 6s 116us/step - loss: 1.0493 - acc: 0.6418 - val_loss: 1.4642 - val_acc: 0.4934\n",
      "Epoch 21/50\n",
      "50000/50000 [==============================] - 6s 119us/step - loss: 1.0270 - acc: 0.6516 - val_loss: 1.4493 - val_acc: 0.4965\n",
      "Epoch 22/50\n",
      "50000/50000 [==============================] - 6s 116us/step - loss: 1.0078 - acc: 0.6580 - val_loss: 1.4515 - val_acc: 0.4961\n",
      "Epoch 23/50\n",
      "50000/50000 [==============================] - 6s 115us/step - loss: 0.9876 - acc: 0.6666 - val_loss: 1.4455 - val_acc: 0.4972\n",
      "Epoch 24/50\n",
      "50000/50000 [==============================] - 6s 116us/step - loss: 0.9649 - acc: 0.6755 - val_loss: 1.4608 - val_acc: 0.4910\n",
      "Epoch 25/50\n",
      "50000/50000 [==============================] - 6s 112us/step - loss: 0.9474 - acc: 0.6817 - val_loss: 1.4520 - val_acc: 0.4955\n",
      "Epoch 26/50\n",
      "50000/50000 [==============================] - 6s 118us/step - loss: 0.9243 - acc: 0.6915 - val_loss: 1.4726 - val_acc: 0.4925\n",
      "Epoch 27/50\n",
      "50000/50000 [==============================] - 6s 117us/step - loss: 0.9042 - acc: 0.6995 - val_loss: 1.4757 - val_acc: 0.4997\n",
      "Epoch 28/50\n",
      "50000/50000 [==============================] - 6s 117us/step - loss: 0.8845 - acc: 0.7069 - val_loss: 1.4706 - val_acc: 0.4928\n",
      "Epoch 29/50\n",
      "50000/50000 [==============================] - 6s 118us/step - loss: 0.8668 - acc: 0.7140 - val_loss: 1.4565 - val_acc: 0.4994\n",
      "Epoch 30/50\n",
      "50000/50000 [==============================] - 6s 112us/step - loss: 0.8464 - acc: 0.7234 - val_loss: 1.4796 - val_acc: 0.4952\n",
      "Epoch 31/50\n",
      "50000/50000 [==============================] - 6s 115us/step - loss: 0.8273 - acc: 0.7299 - val_loss: 1.4854 - val_acc: 0.4955\n",
      "Epoch 32/50\n",
      "50000/50000 [==============================] - 6s 116us/step - loss: 0.8088 - acc: 0.7362 - val_loss: 1.4952 - val_acc: 0.4999\n",
      "Epoch 33/50\n",
      "50000/50000 [==============================] - 5s 110us/step - loss: 0.7899 - acc: 0.7442 - val_loss: 1.5021 - val_acc: 0.4926\n",
      "Epoch 34/50\n",
      "50000/50000 [==============================] - 6s 112us/step - loss: 0.7698 - acc: 0.7509 - val_loss: 1.5057 - val_acc: 0.4972\n",
      "Epoch 35/50\n",
      "50000/50000 [==============================] - 6s 112us/step - loss: 0.7504 - acc: 0.7597 - val_loss: 1.5036 - val_acc: 0.5000\n",
      "Epoch 36/50\n",
      "50000/50000 [==============================] - 6s 111us/step - loss: 0.7304 - acc: 0.7685 - val_loss: 1.4999 - val_acc: 0.4983\n",
      "Epoch 37/50\n",
      "50000/50000 [==============================] - 5s 110us/step - loss: 0.7134 - acc: 0.7726 - val_loss: 1.5118 - val_acc: 0.5033\n",
      "Epoch 38/50\n",
      "50000/50000 [==============================] - 6s 115us/step - loss: 0.6941 - acc: 0.7818 - val_loss: 1.5276 - val_acc: 0.4964\n",
      "Epoch 39/50\n",
      "50000/50000 [==============================] - 6s 119us/step - loss: 0.6764 - acc: 0.7878 - val_loss: 1.5411 - val_acc: 0.4960\n",
      "Epoch 40/50\n",
      "50000/50000 [==============================] - 6s 120us/step - loss: 0.6599 - acc: 0.7944 - val_loss: 1.5560 - val_acc: 0.4925\n",
      "Epoch 41/50\n",
      "50000/50000 [==============================] - 6s 112us/step - loss: 0.6409 - acc: 0.8023 - val_loss: 1.5668 - val_acc: 0.4954\n",
      "Epoch 42/50\n",
      "50000/50000 [==============================] - 6s 114us/step - loss: 0.6255 - acc: 0.8075 - val_loss: 1.5836 - val_acc: 0.4915\n",
      "Epoch 00042: early stopping\n"
     ]
    }
   ],
   "source": [
    "# 載入 Callbacks\n",
    "\"\"\"Code Here\n",
    "設定 callbacks: Earlystop\n",
    "\"\"\"\n",
    "from keras.callbacks import EarlyStopping\n",
    "\n",
    "earlystop = EarlyStopping(monitor=\"val_loss\",\n",
    "                          patience=25,\n",
    "                          verbose=1\n",
    "                          )\n",
    "\n",
    "\"\"\"Code Here\n",
    "撰寫你的訓練流程並將結果用 dictionary 紀錄\n",
    "\"\"\"\n",
    "model = build_mlp(input_shape=x_train.shape[1:])\n",
    "model.summary()\n",
    "optimizer = keras.optimizers.SGD(lr=LEARNING_RATE, nesterov=True, momentum=MOMENTUM)\n",
    "model.compile(loss=\"categorical_crossentropy\", metrics=[\"accuracy\"], optimizer=optimizer)\n",
    "\n",
    "model.fit(x_train, y_train, \n",
    "          epochs=EPOCHS, \n",
    "          batch_size=BATCH_SIZE, \n",
    "          validation_data=(x_test, y_test), \n",
    "          shuffle=True,\n",
    "          callbacks=[earlystop]\n",
    "         )\n",
    "\n",
    "# Collect results\n",
    "train_loss = model.history.history[\"loss\"]\n",
    "valid_loss = model.history.history[\"val_loss\"]\n",
    "train_acc = model.history.history[\"acc\"]\n",
    "valid_acc = model.history.history[\"val_acc\"]"
   ]
  },
  {
   "cell_type": "code",
   "execution_count": 19,
   "metadata": {},
   "outputs": [
    {
     "data": {
      "image/png": "[encoded data removed]",
      "text/plain": [
       "<Figure size 432x288 with 1 Axes>"
      ]
     },
     "metadata": {
      "needs_background": "light"
     },
     "output_type": "display_data"
    },
    {
     "data": {
      "image/png": "[encoded data removed]",
      "text/plain": [
       "<Figure size 432x288 with 1 Axes>"
      ]
     },
     "metadata": {
      "needs_background": "light"
     },
     "output_type": "display_data"
    }
   ],
   "source": [
    "import matplotlib.pyplot as plt\n",
    "%matplotlib inline\n",
    "\"\"\"Code Here\n",
    "將結果繪出\n",
    "\"\"\"\n",
    "plt.plot(range(len(train_loss)), train_loss, label=\"train loss\")\n",
    "plt.plot(range(len(valid_loss)), valid_loss, label=\"valid loss\")\n",
    "plt.legend()\n",
    "plt.title(\"Loss\")\n",
    "plt.show()\n",
    "\n",
    "plt.plot(range(len(train_acc)), train_acc, label=\"train accuracy\")\n",
    "plt.plot(range(len(valid_acc)), valid_acc, label=\"valid accuracy\")\n",
    "plt.legend()\n",
    "plt.title(\"Accuracy\")\n",
    "plt.show()"
   ]
  },
  {
   "cell_type": "code",
   "execution_count": null,
   "metadata": {},
   "outputs": [],
   "source": []
  }
 ],
 "metadata": {
  "kernelspec": {
   "display_name": "Python 3",
   "language": "python",
   "name": "python3"
  },
  "language_info": {
   "codemirror_mode": {
    "name": "ipython",
    "version": 3
   },
   "file_extension": ".py",
   "mimetype": "text/x-python",
   "name": "python",
   "nbconvert_exporter": "python",
   "pygments_lexer": "ipython3",
   "version": "3.7.3"
  }
 },
 "nbformat": 4,
 "nbformat_minor": 2
}
