{
 "cells": [
  {
   "cell_type": "markdown",
   "metadata": {},
   "source": [
    "## 範例重點\n",
    "### 學習在模型開始前檢查各個環節\n",
    "1. 是否有 GPU 資源\n",
    "2. 將前處理轉為函式，統一處理訓練、驗證與測試集\n",
    "3. 將超參數變數化，易於重複使用函式、模型等"
   ]
  },
  {
   "cell_type": "code",
   "execution_count": null,
   "metadata": {},
   "outputs": [],
   "source": [
    "## 確認硬體資源 (如果你是在 Linux, 若是在 Windows, 請參考 https://blog.csdn.net/idwtwt/article/details/78017565)\n",
    "!nvidia-smi"
   ]
  },
  {
   "cell_type": "code",
   "execution_count": 1,
   "metadata": {},
   "outputs": [
    {
     "name": "stderr",
     "output_type": "stream",
     "text": [
      "Using TensorFlow backend.\n"
     ]
    }
   ],
   "source": [
    "import os\n",
    "import keras\n",
    "\n",
    "# 本範例不需使用 GPU, 將 GPU 設定為 \"無\"\n",
    "os.environ[\"CUDA_VISIBLE_DEVICES\"] = \"\""
   ]
  },
  {
   "cell_type": "code",
   "execution_count": 2,
   "metadata": {},
   "outputs": [],
   "source": [
    "# 從 Keras 的內建功能中，取得 train 與 test 資料集\n",
    "train, test = keras.datasets.cifar10.load_data()"
   ]
  },
  {
   "cell_type": "code",
   "execution_count": 3,
   "metadata": {},
   "outputs": [],
   "source": [
    "## 資料前處理\n",
    "def preproc_x(x, flatten=True):\n",
    "    x = x / 255.\n",
    "    if flatten:\n",
    "        x = x.reshape((len(x), -1))\n",
    "    return x\n",
    "\n",
    "def preproc_y(y, num_classes=10):\n",
    "    if y.shape[-1] == 1:\n",
    "        y = keras.utils.to_categorical(y, num_classes)\n",
    "    return y    "
   ]
  },
  {
   "cell_type": "code",
   "execution_count": 4,
   "metadata": {},
   "outputs": [],
   "source": [
    "x_train, y_train = train\n",
    "x_test, y_test = test\n",
    "\n",
    "# 資料前處理 - X 標準化\n",
    "x_train = preproc_x(x_train)\n",
    "x_test = preproc_x(x_test)\n",
    "\n",
    "# 資料前處理 -Y 轉成 onehot\n",
    "y_train = preproc_y(y_train)\n",
    "y_test = preproc_y(y_test)"
   ]
  },
  {
   "cell_type": "code",
   "execution_count": 5,
   "metadata": {},
   "outputs": [],
   "source": [
    "def build_mlp(input_shape, output_units=10, num_neurons=[512, 256, 128]):\n",
    "    input_layer = keras.layers.Input(input_shape)\n",
    "    \n",
    "    for i, n_units in enumerate(num_neurons):\n",
    "        if i == 0:\n",
    "            x = keras.layers.Dense(units=n_units, activation=\"relu\", name=\"hidden_layer\"+str(i+1))(input_layer)\n",
    "        else:\n",
    "            x = keras.layers.Dense(units=n_units, activation=\"relu\", name=\"hidden_layer\"+str(i+1))(x)\n",
    "    \n",
    "    out = keras.layers.Dense(units=output_units, activation=\"softmax\", name=\"output\")(x)\n",
    "    \n",
    "    model = keras.models.Model(inputs=[input_layer], outputs=[out])\n",
    "    return model"
   ]
  },
  {
   "cell_type": "code",
   "execution_count": 6,
   "metadata": {},
   "outputs": [
    {
     "name": "stderr",
     "output_type": "stream",
     "text": [
      "WARNING: Logging before flag parsing goes to stderr.\n",
      "W0714 09:44:03.176468  5456 deprecation_wrapper.py:119] From C:\\Users\\shoey\\Anaconda3\\envs\\tensorflow\\lib\\site-packages\\keras\\backend\\tensorflow_backend.py:74: The name tf.get_default_graph is deprecated. Please use tf.compat.v1.get_default_graph instead.\n",
      "\n",
      "W0714 09:44:03.212470  5456 deprecation_wrapper.py:119] From C:\\Users\\shoey\\Anaconda3\\envs\\tensorflow\\lib\\site-packages\\keras\\backend\\tensorflow_backend.py:517: The name tf.placeholder is deprecated. Please use tf.compat.v1.placeholder instead.\n",
      "\n",
      "W0714 09:44:03.219470  5456 deprecation_wrapper.py:119] From C:\\Users\\shoey\\Anaconda3\\envs\\tensorflow\\lib\\site-packages\\keras\\backend\\tensorflow_backend.py:4138: The name tf.random_uniform is deprecated. Please use tf.random.uniform instead.\n",
      "\n"
     ]
    },
    {
     "name": "stdout",
     "output_type": "stream",
     "text": [
      "_________________________________________________________________\n",
      "Layer (type)                 Output Shape              Param #   \n",
      "=================================================================\n",
      "input_1 (InputLayer)         (None, 3072)              0         \n",
      "_________________________________________________________________\n",
      "hidden_layer1 (Dense)        (None, 512)               1573376   \n",
      "_________________________________________________________________\n",
      "hidden_layer2 (Dense)        (None, 256)               131328    \n",
      "_________________________________________________________________\n",
      "hidden_layer3 (Dense)        (None, 128)               32896     \n",
      "_________________________________________________________________\n",
      "output (Dense)               (None, 10)                1290      \n",
      "=================================================================\n",
      "Total params: 1,738,890\n",
      "Trainable params: 1,738,890\n",
      "Non-trainable params: 0\n",
      "_________________________________________________________________\n"
     ]
    }
   ],
   "source": [
    "model = build_mlp(input_shape=x_train.shape[1:])\n",
    "model.summary()"
   ]
  },
  {
   "cell_type": "code",
   "execution_count": 7,
   "metadata": {},
   "outputs": [],
   "source": [
    "## 超參數設定\n",
    "LEARNING_RATE = 0.001\n",
    "EPOCHS = 100\n",
    "BATCH_SIZE = 256"
   ]
  },
  {
   "cell_type": "code",
   "execution_count": 8,
   "metadata": {},
   "outputs": [
    {
     "name": "stderr",
     "output_type": "stream",
     "text": [
      "W0714 09:44:22.304562  5456 deprecation_wrapper.py:119] From C:\\Users\\shoey\\Anaconda3\\envs\\tensorflow\\lib\\site-packages\\keras\\optimizers.py:790: The name tf.train.Optimizer is deprecated. Please use tf.compat.v1.train.Optimizer instead.\n",
      "\n",
      "W0714 09:44:22.311562  5456 deprecation_wrapper.py:119] From C:\\Users\\shoey\\Anaconda3\\envs\\tensorflow\\lib\\site-packages\\keras\\backend\\tensorflow_backend.py:3295: The name tf.log is deprecated. Please use tf.math.log instead.\n",
      "\n"
     ]
    }
   ],
   "source": [
    "optimizer = keras.optimizers.Adam(lr=LEARNING_RATE)\n",
    "model.compile(loss=\"categorical_crossentropy\", metrics=[\"accuracy\"], optimizer=optimizer)"
   ]
  },
  {
   "cell_type": "code",
   "execution_count": 9,
   "metadata": {},
   "outputs": [
    {
     "name": "stderr",
     "output_type": "stream",
     "text": [
      "W0714 09:44:29.129952  5456 deprecation.py:323] From C:\\Users\\shoey\\Anaconda3\\envs\\tensorflow\\lib\\site-packages\\tensorflow\\python\\ops\\math_grad.py:1250: add_dispatch_support.<locals>.wrapper (from tensorflow.python.ops.array_ops) is deprecated and will be removed in a future version.\n",
      "Instructions for updating:\n",
      "Use tf.where in 2.0, which has the same broadcast rule as np.where\n",
      "W0714 09:44:29.181955  5456 deprecation_wrapper.py:119] From C:\\Users\\shoey\\Anaconda3\\envs\\tensorflow\\lib\\site-packages\\keras\\backend\\tensorflow_backend.py:986: The name tf.assign_add is deprecated. Please use tf.compat.v1.assign_add instead.\n",
      "\n"
     ]
    },
    {
     "name": "stdout",
     "output_type": "stream",
     "text": [
      "Train on 50000 samples, validate on 10000 samples\n",
      "Epoch 1/100\n",
      "50000/50000 [==============================] - 10s 196us/step - loss: 1.9736 - acc: 0.2880 - val_loss: 1.7716 - val_acc: 0.3683\n",
      "Epoch 2/100\n",
      "50000/50000 [==============================] - 10s 198us/step - loss: 1.7331 - acc: 0.3805 - val_loss: 1.6540 - val_acc: 0.4079\n",
      "Epoch 3/100\n",
      "50000/50000 [==============================] - 10s 207us/step - loss: 1.6299 - acc: 0.4195 - val_loss: 1.6203 - val_acc: 0.4162\n",
      "Epoch 4/100\n",
      "50000/50000 [==============================] - 8s 168us/step - loss: 1.5583 - acc: 0.4449 - val_loss: 1.5728 - val_acc: 0.4371\n",
      "Epoch 5/100\n",
      "50000/50000 [==============================] - 8s 165us/step - loss: 1.5054 - acc: 0.4624 - val_loss: 1.5163 - val_acc: 0.4617\n",
      "Epoch 6/100\n",
      "50000/50000 [==============================] - 8s 158us/step - loss: 1.4683 - acc: 0.4785 - val_loss: 1.5125 - val_acc: 0.4580\n",
      "Epoch 7/100\n",
      "50000/50000 [==============================] - 8s 162us/step - loss: 1.4377 - acc: 0.4887 - val_loss: 1.4886 - val_acc: 0.4715\n",
      "Epoch 8/100\n",
      "50000/50000 [==============================] - 8s 159us/step - loss: 1.4190 - acc: 0.4947 - val_loss: 1.4513 - val_acc: 0.4816\n",
      "Epoch 9/100\n",
      "50000/50000 [==============================] - 8s 161us/step - loss: 1.3818 - acc: 0.5087 - val_loss: 1.4257 - val_acc: 0.4960\n",
      "Epoch 10/100\n",
      "50000/50000 [==============================] - 8s 159us/step - loss: 1.3565 - acc: 0.5174 - val_loss: 1.4177 - val_acc: 0.4943\n",
      "Epoch 11/100\n",
      "50000/50000 [==============================] - 8s 159us/step - loss: 1.3240 - acc: 0.5281 - val_loss: 1.4181 - val_acc: 0.5002\n",
      "Epoch 12/100\n",
      "50000/50000 [==============================] - 8s 160us/step - loss: 1.3048 - acc: 0.5370 - val_loss: 1.4158 - val_acc: 0.4893\n",
      "Epoch 13/100\n",
      "50000/50000 [==============================] - 8s 164us/step - loss: 1.2887 - acc: 0.5417 - val_loss: 1.3953 - val_acc: 0.5060\n",
      "Epoch 14/100\n",
      "50000/50000 [==============================] - 8s 165us/step - loss: 1.2657 - acc: 0.5487 - val_loss: 1.3727 - val_acc: 0.5167\n",
      "Epoch 15/100\n",
      "50000/50000 [==============================] - 8s 170us/step - loss: 1.2315 - acc: 0.5627 - val_loss: 1.4092 - val_acc: 0.5033\n",
      "Epoch 16/100\n",
      "50000/50000 [==============================] - 8s 166us/step - loss: 1.2206 - acc: 0.5664 - val_loss: 1.4119 - val_acc: 0.5049\n",
      "Epoch 17/100\n",
      "50000/50000 [==============================] - 8s 161us/step - loss: 1.1954 - acc: 0.5756 - val_loss: 1.3603 - val_acc: 0.5163\n",
      "Epoch 18/100\n",
      "50000/50000 [==============================] - 8s 159us/step - loss: 1.1807 - acc: 0.5798 - val_loss: 1.3624 - val_acc: 0.5196\n",
      "Epoch 19/100\n",
      "50000/50000 [==============================] - 8s 162us/step - loss: 1.1661 - acc: 0.5847 - val_loss: 1.3639 - val_acc: 0.5207\n",
      "Epoch 20/100\n",
      "50000/50000 [==============================] - 8s 158us/step - loss: 1.1420 - acc: 0.5948 - val_loss: 1.3547 - val_acc: 0.5288\n",
      "Epoch 21/100\n",
      "50000/50000 [==============================] - 8s 164us/step - loss: 1.1334 - acc: 0.5963 - val_loss: 1.3650 - val_acc: 0.5240\n",
      "Epoch 22/100\n",
      "50000/50000 [==============================] - 8s 162us/step - loss: 1.1057 - acc: 0.6078 - val_loss: 1.3545 - val_acc: 0.5310\n",
      "Epoch 23/100\n",
      "50000/50000 [==============================] - 8s 164us/step - loss: 1.0823 - acc: 0.6158 - val_loss: 1.3765 - val_acc: 0.5255\n",
      "Epoch 24/100\n",
      "50000/50000 [==============================] - 8s 163us/step - loss: 1.0702 - acc: 0.6171 - val_loss: 1.4007 - val_acc: 0.5199\n",
      "Epoch 25/100\n",
      "50000/50000 [==============================] - 8s 166us/step - loss: 1.0537 - acc: 0.6238 - val_loss: 1.4278 - val_acc: 0.5221\n",
      "Epoch 26/100\n",
      "50000/50000 [==============================] - 8s 164us/step - loss: 1.0269 - acc: 0.6357 - val_loss: 1.4476 - val_acc: 0.5031\n",
      "Epoch 27/100\n",
      "50000/50000 [==============================] - 8s 164us/step - loss: 1.0115 - acc: 0.6400 - val_loss: 1.3799 - val_acc: 0.5341\n",
      "Epoch 28/100\n",
      "50000/50000 [==============================] - 8s 162us/step - loss: 0.9885 - acc: 0.6470 - val_loss: 1.4209 - val_acc: 0.5236\n",
      "Epoch 29/100\n",
      "50000/50000 [==============================] - 8s 163us/step - loss: 0.9788 - acc: 0.6504 - val_loss: 1.4059 - val_acc: 0.5272\n",
      "Epoch 30/100\n",
      "50000/50000 [==============================] - 8s 160us/step - loss: 0.9554 - acc: 0.6604 - val_loss: 1.4149 - val_acc: 0.5254\n",
      "Epoch 31/100\n",
      "50000/50000 [==============================] - 8s 167us/step - loss: 0.9478 - acc: 0.6621 - val_loss: 1.3964 - val_acc: 0.5283\n",
      "Epoch 32/100\n",
      "50000/50000 [==============================] - 8s 160us/step - loss: 0.9280 - acc: 0.6690 - val_loss: 1.4923 - val_acc: 0.5226\n",
      "Epoch 33/100\n",
      "50000/50000 [==============================] - 8s 163us/step - loss: 0.9113 - acc: 0.6731 - val_loss: 1.4503 - val_acc: 0.5273\n",
      "Epoch 34/100\n",
      "50000/50000 [==============================] - 8s 160us/step - loss: 0.8827 - acc: 0.6846 - val_loss: 1.5099 - val_acc: 0.5218\n",
      "Epoch 35/100\n",
      "50000/50000 [==============================] - 8s 163us/step - loss: 0.8901 - acc: 0.6805 - val_loss: 1.4930 - val_acc: 0.5229\n",
      "Epoch 36/100\n",
      "50000/50000 [==============================] - 8s 160us/step - loss: 0.8514 - acc: 0.6950 - val_loss: 1.4745 - val_acc: 0.5302\n",
      "Epoch 37/100\n",
      "50000/50000 [==============================] - 8s 163us/step - loss: 0.8403 - acc: 0.7012 - val_loss: 1.4636 - val_acc: 0.5298\n",
      "Epoch 38/100\n",
      "50000/50000 [==============================] - 8s 162us/step - loss: 0.8162 - acc: 0.7107 - val_loss: 1.5096 - val_acc: 0.5355\n",
      "Epoch 39/100\n",
      "50000/50000 [==============================] - 8s 164us/step - loss: 0.8080 - acc: 0.7114 - val_loss: 1.4786 - val_acc: 0.5372\n",
      "Epoch 40/100\n",
      "50000/50000 [==============================] - 8s 161us/step - loss: 0.8027 - acc: 0.7121 - val_loss: 1.5333 - val_acc: 0.5282\n",
      "Epoch 41/100\n",
      "50000/50000 [==============================] - 8s 162us/step - loss: 0.7825 - acc: 0.7198 - val_loss: 1.5400 - val_acc: 0.5303\n",
      "Epoch 42/100\n",
      "50000/50000 [==============================] - 8s 162us/step - loss: 0.7606 - acc: 0.7269 - val_loss: 1.5798 - val_acc: 0.5315\n",
      "Epoch 43/100\n",
      "50000/50000 [==============================] - 8s 161us/step - loss: 0.7453 - acc: 0.7324 - val_loss: 1.6016 - val_acc: 0.5279\n",
      "Epoch 44/100\n",
      "50000/50000 [==============================] - 8s 163us/step - loss: 0.7392 - acc: 0.7366 - val_loss: 1.6173 - val_acc: 0.5273\n",
      "Epoch 45/100\n",
      "50000/50000 [==============================] - 8s 164us/step - loss: 0.7264 - acc: 0.7406 - val_loss: 1.6315 - val_acc: 0.5299\n",
      "Epoch 46/100\n",
      "50000/50000 [==============================] - 8s 166us/step - loss: 0.6947 - acc: 0.7503 - val_loss: 1.7076 - val_acc: 0.5149\n",
      "Epoch 47/100\n",
      "50000/50000 [==============================] - 8s 164us/step - loss: 0.6970 - acc: 0.7496 - val_loss: 1.6739 - val_acc: 0.5275\n",
      "Epoch 48/100\n",
      "50000/50000 [==============================] - 8s 166us/step - loss: 0.6726 - acc: 0.7591 - val_loss: 1.7665 - val_acc: 0.5072\n",
      "Epoch 49/100\n",
      "50000/50000 [==============================] - 8s 163us/step - loss: 0.6685 - acc: 0.7599 - val_loss: 1.6905 - val_acc: 0.5169\n",
      "Epoch 50/100\n",
      "50000/50000 [==============================] - 8s 163us/step - loss: 0.6472 - acc: 0.7680 - val_loss: 1.7558 - val_acc: 0.5270\n",
      "Epoch 51/100\n",
      "50000/50000 [==============================] - 8s 161us/step - loss: 0.6466 - acc: 0.7668 - val_loss: 1.7538 - val_acc: 0.5228\n",
      "Epoch 52/100\n",
      "50000/50000 [==============================] - 8s 164us/step - loss: 0.6433 - acc: 0.7707 - val_loss: 1.7578 - val_acc: 0.5201\n",
      "Epoch 53/100\n",
      "50000/50000 [==============================] - 8s 163us/step - loss: 0.6079 - acc: 0.7827 - val_loss: 1.7554 - val_acc: 0.5245\n",
      "Epoch 54/100\n",
      "50000/50000 [==============================] - 8s 166us/step - loss: 0.5882 - acc: 0.7904 - val_loss: 1.8176 - val_acc: 0.5127\n",
      "Epoch 55/100\n",
      "50000/50000 [==============================] - 8s 162us/step - loss: 0.5898 - acc: 0.7896 - val_loss: 1.9133 - val_acc: 0.5181\n",
      "Epoch 56/100\n",
      "50000/50000 [==============================] - 8s 162us/step - loss: 0.5814 - acc: 0.7920 - val_loss: 1.8582 - val_acc: 0.5211\n",
      "Epoch 57/100\n",
      "50000/50000 [==============================] - 8s 165us/step - loss: 0.5685 - acc: 0.7967 - val_loss: 1.8796 - val_acc: 0.5139\n",
      "Epoch 58/100\n",
      "50000/50000 [==============================] - 9s 170us/step - loss: 0.5423 - acc: 0.8054 - val_loss: 1.9340 - val_acc: 0.5188\n",
      "Epoch 59/100\n"
     ]
    },
    {
     "name": "stdout",
     "output_type": "stream",
     "text": [
      "50000/50000 [==============================] - 8s 161us/step - loss: 0.5461 - acc: 0.8052 - val_loss: 1.9991 - val_acc: 0.5060\n",
      "Epoch 60/100\n",
      "50000/50000 [==============================] - 8s 162us/step - loss: 0.5403 - acc: 0.8047 - val_loss: 1.9980 - val_acc: 0.5191\n",
      "Epoch 61/100\n",
      "50000/50000 [==============================] - 8s 163us/step - loss: 0.5293 - acc: 0.8119 - val_loss: 1.9881 - val_acc: 0.5139\n",
      "Epoch 62/100\n",
      "50000/50000 [==============================] - 8s 166us/step - loss: 0.5194 - acc: 0.8134 - val_loss: 2.0093 - val_acc: 0.5214\n",
      "Epoch 63/100\n",
      "50000/50000 [==============================] - 8s 163us/step - loss: 0.5191 - acc: 0.8130 - val_loss: 2.0296 - val_acc: 0.5217\n",
      "Epoch 64/100\n",
      "50000/50000 [==============================] - 8s 162us/step - loss: 0.4940 - acc: 0.8228 - val_loss: 2.1446 - val_acc: 0.5089\n",
      "Epoch 65/100\n",
      "50000/50000 [==============================] - 8s 160us/step - loss: 0.4898 - acc: 0.8236 - val_loss: 2.1286 - val_acc: 0.5181\n",
      "Epoch 66/100\n",
      "50000/50000 [==============================] - 8s 160us/step - loss: 0.4837 - acc: 0.8262 - val_loss: 2.1657 - val_acc: 0.5121\n",
      "Epoch 67/100\n",
      "50000/50000 [==============================] - 8s 161us/step - loss: 0.4778 - acc: 0.8285 - val_loss: 2.1514 - val_acc: 0.5150\n",
      "Epoch 68/100\n",
      "50000/50000 [==============================] - 8s 161us/step - loss: 0.4685 - acc: 0.8326 - val_loss: 2.1946 - val_acc: 0.5160\n",
      "Epoch 69/100\n",
      "50000/50000 [==============================] - 9s 171us/step - loss: 0.4683 - acc: 0.8320 - val_loss: 2.2422 - val_acc: 0.5131\n",
      "Epoch 70/100\n",
      "50000/50000 [==============================] - 8s 169us/step - loss: 0.4533 - acc: 0.8368 - val_loss: 2.2826 - val_acc: 0.5100\n",
      "Epoch 71/100\n",
      "50000/50000 [==============================] - 8s 164us/step - loss: 0.4377 - acc: 0.8430 - val_loss: 2.3858 - val_acc: 0.5072\n",
      "Epoch 72/100\n",
      "50000/50000 [==============================] - 9s 176us/step - loss: 0.4348 - acc: 0.8434 - val_loss: 2.3391 - val_acc: 0.5123\n",
      "Epoch 73/100\n",
      "50000/50000 [==============================] - 8s 166us/step - loss: 0.4331 - acc: 0.8449 - val_loss: 2.2739 - val_acc: 0.5105s: 0.4190 - acc:  - ETA: 1s - los\n",
      "Epoch 74/100\n",
      "50000/50000 [==============================] - 8s 167us/step - loss: 0.4132 - acc: 0.8519 - val_loss: 2.4926 - val_acc: 0.5070\n",
      "Epoch 75/100\n",
      "50000/50000 [==============================] - 9s 179us/step - loss: 0.4144 - acc: 0.8525 - val_loss: 2.4658 - val_acc: 0.5045\n",
      "Epoch 76/100\n",
      "50000/50000 [==============================] - 8s 166us/step - loss: 0.4148 - acc: 0.8515 - val_loss: 2.3698 - val_acc: 0.5164\n",
      "Epoch 77/100\n",
      "50000/50000 [==============================] - 9s 179us/step - loss: 0.4018 - acc: 0.8558 - val_loss: 2.3847 - val_acc: 0.5094\n",
      "Epoch 78/100\n",
      "50000/50000 [==============================] - 8s 160us/step - loss: 0.3752 - acc: 0.8649 - val_loss: 2.4926 - val_acc: 0.5095\n",
      "Epoch 79/100\n",
      "50000/50000 [==============================] - 8s 164us/step - loss: 0.3805 - acc: 0.8638 - val_loss: 2.4670 - val_acc: 0.5117\n",
      "Epoch 80/100\n",
      "50000/50000 [==============================] - 8s 159us/step - loss: 0.3917 - acc: 0.8584 - val_loss: 2.5259 - val_acc: 0.5119\n",
      "Epoch 81/100\n",
      "50000/50000 [==============================] - 8s 168us/step - loss: 0.3893 - acc: 0.8600 - val_loss: 2.5626 - val_acc: 0.5174\n",
      "Epoch 82/100\n",
      "50000/50000 [==============================] - 8s 167us/step - loss: 0.3653 - acc: 0.8695 - val_loss: 2.5370 - val_acc: 0.5137\n",
      "Epoch 83/100\n",
      "50000/50000 [==============================] - 8s 169us/step - loss: 0.3524 - acc: 0.8737 - val_loss: 2.6647 - val_acc: 0.5044\n",
      "Epoch 84/100\n",
      "50000/50000 [==============================] - 8s 170us/step - loss: 0.3621 - acc: 0.8696 - val_loss: 2.6404 - val_acc: 0.5024\n",
      "Epoch 85/100\n",
      "50000/50000 [==============================] - 8s 167us/step - loss: 0.3590 - acc: 0.8702 - val_loss: 2.6574 - val_acc: 0.4989\n",
      "Epoch 86/100\n",
      "50000/50000 [==============================] - 8s 165us/step - loss: 0.3544 - acc: 0.8725 - val_loss: 2.6917 - val_acc: 0.5069\n",
      "Epoch 87/100\n",
      "50000/50000 [==============================] - 8s 166us/step - loss: 0.3368 - acc: 0.8797 - val_loss: 2.7770 - val_acc: 0.5077\n",
      "Epoch 88/100\n",
      "50000/50000 [==============================] - 8s 163us/step - loss: 0.3582 - acc: 0.8692 - val_loss: 2.8094 - val_acc: 0.5058\n",
      "Epoch 89/100\n",
      "50000/50000 [==============================] - 8s 170us/step - loss: 0.3470 - acc: 0.8760 - val_loss: 2.7602 - val_acc: 0.5059\n",
      "Epoch 90/100\n",
      "50000/50000 [==============================] - 8s 165us/step - loss: 0.3353 - acc: 0.8796 - val_loss: 2.7587 - val_acc: 0.5070\n",
      "Epoch 91/100\n",
      "50000/50000 [==============================] - 8s 166us/step - loss: 0.3181 - acc: 0.8853 - val_loss: 2.7951 - val_acc: 0.5054\n",
      "Epoch 92/100\n",
      "50000/50000 [==============================] - 8s 165us/step - loss: 0.3298 - acc: 0.8812 - val_loss: 2.9076 - val_acc: 0.4997\n",
      "Epoch 93/100\n",
      "50000/50000 [==============================] - 9s 172us/step - loss: 0.3091 - acc: 0.8888 - val_loss: 2.9004 - val_acc: 0.4976\n",
      "Epoch 94/100\n",
      "50000/50000 [==============================] - 8s 165us/step - loss: 0.3111 - acc: 0.8881 - val_loss: 2.8818 - val_acc: 0.5057\n",
      "Epoch 95/100\n",
      "50000/50000 [==============================] - 8s 169us/step - loss: 0.2953 - acc: 0.8932 - val_loss: 2.9301 - val_acc: 0.5024\n",
      "Epoch 96/100\n",
      "50000/50000 [==============================] - 8s 166us/step - loss: 0.3078 - acc: 0.8899 - val_loss: 2.9840 - val_acc: 0.4950\n",
      "Epoch 97/100\n",
      "50000/50000 [==============================] - 8s 170us/step - loss: 0.3219 - acc: 0.8830 - val_loss: 2.9007 - val_acc: 0.4957\n",
      "Epoch 98/100\n",
      "50000/50000 [==============================] - 8s 161us/step - loss: 0.2728 - acc: 0.9023 - val_loss: 2.9869 - val_acc: 0.5009\n",
      "Epoch 99/100\n",
      "50000/50000 [==============================] - 8s 167us/step - loss: 0.3086 - acc: 0.8889 - val_loss: 3.0143 - val_acc: 0.5037\n",
      "Epoch 100/100\n",
      "50000/50000 [==============================] - 8s 166us/step - loss: 0.2932 - acc: 0.8953 - val_loss: 3.0938 - val_acc: 0.5016\n"
     ]
    },
    {
     "data": {
      "text/plain": [
       "<keras.callbacks.History at 0x1b88b828>"
      ]
     },
     "execution_count": 9,
     "metadata": {},
     "output_type": "execute_result"
    }
   ],
   "source": [
    "model.fit(x_train, y_train, \n",
    "          epochs=EPOCHS, \n",
    "          batch_size=BATCH_SIZE, \n",
    "          validation_data=(x_test, y_test), \n",
    "          shuffle=True)"
   ]
  },
  {
   "cell_type": "code",
   "execution_count": 11,
   "metadata": {},
   "outputs": [
    {
     "data": {
      "image/png": "[encoded data removed]",
      "text/plain": [
       "<Figure size 432x288 with 1 Axes>"
      ]
     },
     "metadata": {
      "needs_background": "light"
     },
     "output_type": "display_data"
    },
    {
     "data": {
      "image/png": "[encoded data removed]",
      "text/plain": [
       "<Figure size 432x288 with 1 Axes>"
      ]
     },
     "metadata": {
      "needs_background": "light"
     },
     "output_type": "display_data"
    }
   ],
   "source": [
    "# 訓練模型並檢視驗證集的結果\n",
    "import matplotlib.pyplot as plt\n",
    "\n",
    "%matplotlib inline\n",
    "\n",
    "train_loss = model.history.history[\"loss\"]\n",
    "valid_loss = model.history.history[\"val_loss\"]\n",
    "\n",
    "train_acc = model.history.history[\"acc\"]\n",
    "valid_acc = model.history.history[\"val_acc\"]\n",
    "\n",
    "plt.plot(range(len(train_loss)), train_loss, label=\"train loss\")\n",
    "plt.plot(range(len(valid_loss)), valid_loss, label=\"valid loss\")\n",
    "plt.legend()\n",
    "plt.title(\"Loss\")\n",
    "plt.show()\n",
    "\n",
    "plt.plot(range(len(train_acc)), train_acc, label=\"train accuracy\")\n",
    "plt.plot(range(len(valid_acc)), valid_acc, label=\"valid accuracy\")\n",
    "plt.legend()\n",
    "plt.title(\"Accuracy\")\n",
    "plt.show()"
   ]
  },
  {
   "cell_type": "markdown",
   "metadata": {},
   "source": [
    "## Work\n",
    "1. 請嘗試將 preproc_x 替換成以每筆資料的 min/max 進行標準化至 -1 ~ 1 間，再進行訓練\n",
    "2. 請嘗試將 mlp 疊更深 (e.g 5~10 層)，進行訓練後觀察 learning curve 的走勢\n",
    "3. (optional) 請改用 GPU 進行訓練 (如果你有 GPU 的話)，比較使用 CPU 與 GPU 的訓練速度"
   ]
  }
 ],
 "metadata": {
  "kernelspec": {
   "display_name": "Python 3",
   "language": "python",
   "name": "python3"
  },
  "language_info": {
   "codemirror_mode": {
    "name": "ipython",
    "version": 3
   },
   "file_extension": ".py",
   "mimetype": "text/x-python",
   "name": "python",
   "nbconvert_exporter": "python",
   "pygments_lexer": "ipython3",
   "version": "3.7.3"
  }
 },
 "nbformat": 4,
 "nbformat_minor": 2
}
